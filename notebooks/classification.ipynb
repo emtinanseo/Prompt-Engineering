{
 "cells": [
  {
   "cell_type": "code",
   "execution_count": 20,
   "id": "ed2a9198",
   "metadata": {},
   "outputs": [],
   "source": [
    "import pandas as pd\n",
    "import cohere\n",
    "import dvc.api as DvcApi\n",
    "from dotenv import load_dotenv "
   ]
  },
  {
   "cell_type": "code",
   "execution_count": 21,
   "id": "be1bf9bb",
   "metadata": {},
   "outputs": [],
   "source": [
    "#import numpy as np\n",
    "from sklearn.model_selection import train_test_split\n",
    "from sklearn.metrics import accuracy_score\n",
    "from sklearn.metrics import f1_score"
   ]
  },
  {
   "cell_type": "code",
   "execution_count": 22,
   "id": "d87075f8",
   "metadata": {},
   "outputs": [],
   "source": [
    "import sys, os\n",
    "\n",
    "sys.path.append(os.path.abspath(os.path.join(\"../..\")))\n",
    "sys.path.append(os.path.abspath(os.path.join(\"../scripts\")))"
   ]
  },
  {
   "cell_type": "code",
   "execution_count": 23,
   "id": "38abf9a3",
   "metadata": {},
   "outputs": [],
   "source": [
    "import prompt_functions as promptf"
   ]
  },
  {
   "cell_type": "code",
   "execution_count": 24,
   "id": "f8432c26",
   "metadata": {
    "scrolled": false
   },
   "outputs": [],
   "source": [
    "load_dotenv(encoding='utf-16')\n",
    "\n",
    "api_key = os.getenv('apikey')"
   ]
  },
  {
   "cell_type": "code",
   "execution_count": 25,
   "id": "9ab05fb8",
   "metadata": {},
   "outputs": [],
   "source": [
    "# Create and retrieve a Cohere API key from os.cohere.ai\n",
    "co = cohere.Client(api_key)"
   ]
  },
  {
   "cell_type": "code",
   "execution_count": 26,
   "id": "cc829ec7",
   "metadata": {},
   "outputs": [],
   "source": [
    "#pd.set_option('display.max_colwidth', None)"
   ]
  },
  {
   "cell_type": "markdown",
   "id": "576fbe9f",
   "metadata": {},
   "source": [
    "# Project1"
   ]
  },
  {
   "cell_type": "markdown",
   "id": "6c77a447",
   "metadata": {},
   "source": [
    "### Project Overview\n",
    "A client has a system that collects news artifacts from web pages, tweets, facebook posts, etc. The client is interested in scoring a given new artifact against a topic. The client has hired experts to score a few of these news items. The range of results between 0 and 10 signifies the degree of relevance of the news item to the topic (breaking news that may lead to **public unrest**)\n",
    "\n",
    "We want to explore the efficiency of GPT3-like LLMs to this task. If the recommendation is positive, we must demonstrate that our strategies to design prompts are reproducible and produce a consistent result. \n",
    "\n",
    "Design a pipeline that takes a news item (e.g. title +  description + body) and returns a score for the news item\n",
    "\n",
    "The columns of this data are as follows\n",
    "\n",
    "- Domain: the base URL or a reference to the source these item comes from \n",
    "- **Title:** title of the item - the content of the item\n",
    "- **Description:** the content of the item\n",
    "- **Body:** the content of the item\n",
    "- Link: URL to the item source (it may not functional anymore sometime)\n",
    "- Timestamp: timestamp that this item was collected at\n",
    "- **Analyst_Average_Score:** target variable - the score to be estimated \n",
    "- Analyst_Rank: score as rank\n",
    "- Reference_Final_Score: Not relevant for now - it is a transformed quantity"
   ]
  },
  {
   "cell_type": "code",
   "execution_count": 27,
   "id": "c5191a92",
   "metadata": {
    "scrolled": false
   },
   "outputs": [],
   "source": [
    "path = \"data/Example_data1.csv\"\n",
    "repo = \"../\"\n",
    "version = \"v0\"\n",
    "\n",
    "data_url = DvcApi.get_url(path = path, repo = repo, rev = version) #could be tag or git commit\n",
    "data_news = pd.read_csv(data_url)"
   ]
  },
  {
   "cell_type": "code",
   "execution_count": 28,
   "id": "4bd5f6c4",
   "metadata": {},
   "outputs": [
    {
     "data": {
      "text/html": [
       "<div>\n",
       "<style scoped>\n",
       "    .dataframe tbody tr th:only-of-type {\n",
       "        vertical-align: middle;\n",
       "    }\n",
       "\n",
       "    .dataframe tbody tr th {\n",
       "        vertical-align: top;\n",
       "    }\n",
       "\n",
       "    .dataframe thead th {\n",
       "        text-align: right;\n",
       "    }\n",
       "</style>\n",
       "<table border=\"1\" class=\"dataframe\">\n",
       "  <thead>\n",
       "    <tr style=\"text-align: right;\">\n",
       "      <th></th>\n",
       "      <th>Domain</th>\n",
       "      <th>Title</th>\n",
       "      <th>Description</th>\n",
       "      <th>Body</th>\n",
       "      <th>Link</th>\n",
       "      <th>timestamp</th>\n",
       "      <th>Analyst_Average_Score</th>\n",
       "      <th>Analyst_Rank</th>\n",
       "      <th>Reference_Final_Score</th>\n",
       "    </tr>\n",
       "  </thead>\n",
       "  <tbody>\n",
       "    <tr>\n",
       "      <th>0</th>\n",
       "      <td>rassegnastampa.news</td>\n",
       "      <td>Boris Johnson using a taxpayer-funded jet for ...</td>\n",
       "      <td>…often trigger a protest vote that can upset…t...</td>\n",
       "      <td>Boris Johnson using a taxpayer-funded jet for ...</td>\n",
       "      <td>https://rassegnastampa.news/boris-johnson-usin...</td>\n",
       "      <td>2021-09-09T18:17:46.258006</td>\n",
       "      <td>0.0</td>\n",
       "      <td>4</td>\n",
       "      <td>1.96</td>\n",
       "    </tr>\n",
       "    <tr>\n",
       "      <th>1</th>\n",
       "      <td>twitter.com</td>\n",
       "      <td>Stumbled across an interesting case, a woman f...</td>\n",
       "      <td>Stumbled across an interesting case, a woman f...</td>\n",
       "      <td>Stumbled across an interesting case, a woman f...</td>\n",
       "      <td>http://twitter.com/CoruscaKhaya/status/1435585...</td>\n",
       "      <td>2021-09-08T13:02:45.802298</td>\n",
       "      <td>0.0</td>\n",
       "      <td>4</td>\n",
       "      <td>12.00</td>\n",
       "    </tr>\n",
       "  </tbody>\n",
       "</table>\n",
       "</div>"
      ],
      "text/plain": [
       "                Domain                                              Title  \\\n",
       "0  rassegnastampa.news  Boris Johnson using a taxpayer-funded jet for ...   \n",
       "1          twitter.com  Stumbled across an interesting case, a woman f...   \n",
       "\n",
       "                                         Description  \\\n",
       "0  …often trigger a protest vote that can upset…t...   \n",
       "1  Stumbled across an interesting case, a woman f...   \n",
       "\n",
       "                                                Body  \\\n",
       "0  Boris Johnson using a taxpayer-funded jet for ...   \n",
       "1  Stumbled across an interesting case, a woman f...   \n",
       "\n",
       "                                                Link  \\\n",
       "0  https://rassegnastampa.news/boris-johnson-usin...   \n",
       "1  http://twitter.com/CoruscaKhaya/status/1435585...   \n",
       "\n",
       "                    timestamp  Analyst_Average_Score  Analyst_Rank  \\\n",
       "0  2021-09-09T18:17:46.258006                    0.0             4   \n",
       "1  2021-09-08T13:02:45.802298                    0.0             4   \n",
       "\n",
       "   Reference_Final_Score  \n",
       "0                   1.96  \n",
       "1                  12.00  "
      ]
     },
     "execution_count": 28,
     "metadata": {},
     "output_type": "execute_result"
    }
   ],
   "source": [
    "data_news.head(2)"
   ]
  },
  {
   "cell_type": "code",
   "execution_count": 29,
   "id": "30ba17d8",
   "metadata": {},
   "outputs": [
    {
     "data": {
      "text/plain": [
       "0    0.00\n",
       "1    0.00\n",
       "2    0.00\n",
       "3    0.00\n",
       "4    0.00\n",
       "5    1.33\n",
       "6    0.00\n",
       "7    1.66\n",
       "8    0.33\n",
       "9    0.00\n",
       "Name: Analyst_Average_Score, dtype: float64"
      ]
     },
     "execution_count": 29,
     "metadata": {},
     "output_type": "execute_result"
    }
   ],
   "source": [
    "data_news['Analyst_Average_Score']"
   ]
  },
  {
   "cell_type": "markdown",
   "id": "f70d0db1",
   "metadata": {},
   "source": [
    "We have a very small sample, \n",
    "\n",
    "- Ten examples in total,\n",
    "- only three have non-zero relevance to public unrest.\n",
    "- all values are below score of 2\n",
    "\n",
    "So we will use an approach of Few-shot classification with the Classify endpoint as explained in this [blog post](https://txt.cohere.ai/classify-three-options/)\n"
   ]
  },
  {
   "cell_type": "code",
   "execution_count": 30,
   "id": "76cfdd0e",
   "metadata": {
    "scrolled": false
   },
   "outputs": [
    {
     "data": {
      "text/html": [
       "<div>\n",
       "<style scoped>\n",
       "    .dataframe tbody tr th:only-of-type {\n",
       "        vertical-align: middle;\n",
       "    }\n",
       "\n",
       "    .dataframe tbody tr th {\n",
       "        vertical-align: top;\n",
       "    }\n",
       "\n",
       "    .dataframe thead th {\n",
       "        text-align: right;\n",
       "    }\n",
       "</style>\n",
       "<table border=\"1\" class=\"dataframe\">\n",
       "  <thead>\n",
       "    <tr style=\"text-align: right;\">\n",
       "      <th></th>\n",
       "      <th>text</th>\n",
       "      <th>Avg_Score</th>\n",
       "      <th>label</th>\n",
       "    </tr>\n",
       "  </thead>\n",
       "  <tbody>\n",
       "    <tr>\n",
       "      <th>0</th>\n",
       "      <td>Boris Johnson using a taxpayer-funded jet for ...</td>\n",
       "      <td>0.0</td>\n",
       "      <td>Irrelevant</td>\n",
       "    </tr>\n",
       "    <tr>\n",
       "      <th>1</th>\n",
       "      <td>Stumbled across an interesting case, a woman f...</td>\n",
       "      <td>0.0</td>\n",
       "      <td>Irrelevant</td>\n",
       "    </tr>\n",
       "    <tr>\n",
       "      <th>2</th>\n",
       "      <td>Marché Résines dans les peintures et revêtemen...</td>\n",
       "      <td>0.0</td>\n",
       "      <td>Irrelevant</td>\n",
       "    </tr>\n",
       "  </tbody>\n",
       "</table>\n",
       "</div>"
      ],
      "text/plain": [
       "                                                text  Avg_Score       label\n",
       "0  Boris Johnson using a taxpayer-funded jet for ...        0.0  Irrelevant\n",
       "1  Stumbled across an interesting case, a woman f...        0.0  Irrelevant\n",
       "2  Marché Résines dans les peintures et revêtemen...        0.0  Irrelevant"
      ]
     },
     "execution_count": 30,
     "metadata": {},
     "output_type": "execute_result"
    }
   ],
   "source": [
    "df = pd.DataFrame(columns = ['text', 'Avg_Score','label'], index=range(10))\n",
    "\n",
    "df['text'] = data_news['Title'] + data_news['Body']\n",
    "# We truncate the text so as it doesn't exceed the maximum number of tokens allowed LLM can take\n",
    "df['text'] = df['text'].apply(lambda x: x[:500])\n",
    "df['Avg_Score']= data_news['Analyst_Average_Score']\n",
    "df['label'] = data_news['Analyst_Average_Score'].apply(lambda x: 'Relevant' if x > 0 else 'Irrelevant')\n",
    "\n",
    "df.head(3)"
   ]
  },
  {
   "cell_type": "code",
   "execution_count": 31,
   "id": "dcc223d0",
   "metadata": {},
   "outputs": [
    {
     "data": {
      "text/plain": [
       "['Irrelevant', 'Relevant']"
      ]
     },
     "execution_count": 31,
     "metadata": {},
     "output_type": "execute_result"
    }
   ],
   "source": [
    "# 2 classes\n",
    "df['label'].unique().tolist()"
   ]
  },
  {
   "cell_type": "code",
   "execution_count": 32,
   "id": "896a2abe",
   "metadata": {},
   "outputs": [
    {
     "data": {
      "text/plain": [
       "Irrelevant    7\n",
       "Relevant      3\n",
       "Name: label, dtype: int64"
      ]
     },
     "execution_count": 32,
     "metadata": {},
     "output_type": "execute_result"
    }
   ],
   "source": [
    "# sample per class\n",
    "\n",
    "df['label'].value_counts()"
   ]
  },
  {
   "cell_type": "markdown",
   "id": "4c7506b9",
   "metadata": {},
   "source": [
    "Note that the classification we are using here should be more accurately represent as **Irrelevant** and **(Slighlty) Relevant** as the scores <2 and not close to 10. The only goal is to divide the sample according to the score."
   ]
  },
  {
   "cell_type": "markdown",
   "id": "aef53d70",
   "metadata": {},
   "source": [
    "In Few-shot classification with **Cohere’s Classify endpoint** we need to supply a few examples per class to have a decent classifier working. The minimum number of datapoints per class is five [[reference]](https://txt.cohere.ai/classify-three-options/). We don't have the minimum number in each class, so we will not expect to get a good classifier.\n",
    "\n",
    "- Training dataset is referred to as \"examples\"\n",
    "- Each example consist of a text, and a lable"
   ]
  },
  {
   "cell_type": "code",
   "execution_count": 33,
   "id": "4ef7c300",
   "metadata": {},
   "outputs": [],
   "source": [
    "# Split the dataset into training and test portions\n",
    "# Training = to train the model\n",
    "# Test = For evaluating the classifier performance\n",
    "X, y = df[\"text\"], df[\"label\"]\n",
    "X_train, X_test, y_train, y_test = train_test_split(X, y, test_size=2, random_state=21)"
   ]
  },
  {
   "cell_type": "code",
   "execution_count": 34,
   "id": "e672259d",
   "metadata": {},
   "outputs": [],
   "source": [
    "ex_texts = X_train.tolist()\n",
    "ex_labels = y_train.tolist()"
   ]
  },
  {
   "cell_type": "code",
   "execution_count": 35,
   "id": "19b43d1d",
   "metadata": {},
   "outputs": [],
   "source": [
    "# Collate the examples via the Example module\n",
    "from cohere.classify import Example\n",
    "\n",
    "examples = list()\n",
    "for txt, lbl in zip(ex_texts,ex_labels):\n",
    "    examples.append(Example(txt,lbl))"
   ]
  },
  {
   "cell_type": "code",
   "execution_count": 36,
   "id": "a8f24586",
   "metadata": {},
   "outputs": [],
   "source": [
    "# Perform classification\n",
    "def classify_text(text,examples):\n",
    "    classifications = co.classify(model='medium', # model version - medium-22020720\n",
    "                                  inputs=[text],\n",
    "                                  examples=examples)\n",
    "    return classifications.classifications[0].prediction"
   ]
  },
  {
   "cell_type": "code",
   "execution_count": 37,
   "id": "63c17aa3",
   "metadata": {},
   "outputs": [],
   "source": [
    "# Generate classification predictions on the test dataset (this will take a few minutes)\n",
    "y_pred = X_test.apply(classify_text, args=(examples,)).tolist()"
   ]
  },
  {
   "cell_type": "code",
   "execution_count": 38,
   "id": "92d6aa3a",
   "metadata": {},
   "outputs": [
    {
     "name": "stdout",
     "output_type": "stream",
     "text": [
      "Accuracy: 100.00\n",
      "F1-score: 100.00\n"
     ]
    }
   ],
   "source": [
    "# Compute metrics on the test dataset\n",
    "accuracy = accuracy_score(y_test, y_pred)\n",
    "f1 = f1_score(y_test, y_pred, average='weighted')\n",
    "\n",
    "print(f'Accuracy: {100*accuracy:.2f}')\n",
    "print(f'F1-score: {100*f1:.2f}')"
   ]
  },
  {
   "cell_type": "markdown",
   "id": "9764764b",
   "metadata": {},
   "source": [
    "We get 100% accuracy, which is a good sign. However, since our sample is tiny the result may not extend to a larger set of cases. More data is needed."
   ]
  },
  {
   "cell_type": "code",
   "execution_count": null,
   "id": "a9564d76",
   "metadata": {},
   "outputs": [],
   "source": []
  }
 ],
 "metadata": {
  "kernelspec": {
   "display_name": "Python 3 (ipykernel)",
   "language": "python",
   "name": "python3"
  },
  "language_info": {
   "codemirror_mode": {
    "name": "ipython",
    "version": 3
   },
   "file_extension": ".py",
   "mimetype": "text/x-python",
   "name": "python",
   "nbconvert_exporter": "python",
   "pygments_lexer": "ipython3",
   "version": "3.10.4"
  }
 },
 "nbformat": 4,
 "nbformat_minor": 5
}
