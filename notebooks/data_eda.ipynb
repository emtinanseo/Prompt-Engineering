{
 "cells": [
  {
   "cell_type": "code",
   "execution_count": 1,
   "id": "f8332c22",
   "metadata": {},
   "outputs": [],
   "source": [
    "import pandas as pd\n",
    "import dvc.api as DvcApi"
   ]
  },
  {
   "cell_type": "code",
   "execution_count": 2,
   "id": "69ab47c0",
   "metadata": {},
   "outputs": [],
   "source": [
    "import sys, os\n",
    "\n",
    "sys.path.append(os.path.abspath(os.path.join(\"../..\")))\n",
    "sys.path.append(os.path.abspath(os.path.join(\"../scripts\")))"
   ]
  },
  {
   "cell_type": "code",
   "execution_count": 3,
   "id": "3be21805",
   "metadata": {},
   "outputs": [],
   "source": [
    "# pd.set_option('display.max_colwidth', None)"
   ]
  },
  {
   "cell_type": "markdown",
   "id": "9cdcf2ed",
   "metadata": {},
   "source": [
    "---------------------------------------------------------------------------------------------------------------------------"
   ]
  },
  {
   "cell_type": "markdown",
   "id": "576fbe9f",
   "metadata": {},
   "source": [
    "# Project1"
   ]
  },
  {
   "cell_type": "markdown",
   "id": "6c77a447",
   "metadata": {},
   "source": [
    "### Project Overview\n",
    "A client has a system that collects news artifacts from web pages, tweets, facebook posts, etc. The client is interested in scoring a given new artifact against a topic. The client has hired experts to score a few of these news items. The range of results between 0 and 10 signifies the degree of relevance of the news item to the topic. \n",
    "\n",
    "We want to explore the efficiency of GPT3-like LLMs to this task. If the recommendation is positive, we must demonstrate that our strategies to design prompts are reproducible and produce a consistent result. \n",
    "\n",
    "Design a pipeline that takes a news item (e.g. title +  description + body) and returns a score for the news item\n",
    "\n",
    "The columns of this data are as follows\n",
    "\n",
    "- Domain: the base URL or a reference to the source these item comes from \n",
    "- **Title:** title of the item - the content of the item\n",
    "- **Description:** the content of the item\n",
    "- **Body:** the content of the item\n",
    "- Link: URL to the item source (it may not functional anymore sometime)\n",
    "- Timestamp: timestamp that this item was collected at\n",
    "- **Analyst_Average_Score:** target variable - the score to be estimated \n",
    "- Analyst_Rank: score as rank\n",
    "- Reference_Final_Score: Not relevant for now - it is a transformed quantity"
   ]
  },
  {
   "cell_type": "code",
   "execution_count": 4,
   "id": "c5191a92",
   "metadata": {
    "scrolled": false
   },
   "outputs": [],
   "source": [
    "path = \"data/Example_data1.csv\"\n",
    "repo = \"../\"\n",
    "version = \"v0\"\n",
    "\n",
    "data_url = DvcApi.get_url(path = path, repo = repo, rev = version) #could be tag or git commit\n",
    "data_news = pd.read_csv(data_url)"
   ]
  },
  {
   "cell_type": "code",
   "execution_count": 5,
   "id": "4bd5f6c4",
   "metadata": {},
   "outputs": [
    {
     "data": {
      "text/html": [
       "<div>\n",
       "<style scoped>\n",
       "    .dataframe tbody tr th:only-of-type {\n",
       "        vertical-align: middle;\n",
       "    }\n",
       "\n",
       "    .dataframe tbody tr th {\n",
       "        vertical-align: top;\n",
       "    }\n",
       "\n",
       "    .dataframe thead th {\n",
       "        text-align: right;\n",
       "    }\n",
       "</style>\n",
       "<table border=\"1\" class=\"dataframe\">\n",
       "  <thead>\n",
       "    <tr style=\"text-align: right;\">\n",
       "      <th></th>\n",
       "      <th>Domain</th>\n",
       "      <th>Title</th>\n",
       "      <th>Description</th>\n",
       "      <th>Body</th>\n",
       "      <th>Link</th>\n",
       "      <th>timestamp</th>\n",
       "      <th>Analyst_Average_Score</th>\n",
       "      <th>Analyst_Rank</th>\n",
       "      <th>Reference_Final_Score</th>\n",
       "    </tr>\n",
       "  </thead>\n",
       "  <tbody>\n",
       "    <tr>\n",
       "      <th>0</th>\n",
       "      <td>rassegnastampa.news</td>\n",
       "      <td>Boris Johnson using a taxpayer-funded jet for ...</td>\n",
       "      <td>…often trigger a protest vote that can upset…t...</td>\n",
       "      <td>Boris Johnson using a taxpayer-funded jet for ...</td>\n",
       "      <td>https://rassegnastampa.news/boris-johnson-usin...</td>\n",
       "      <td>2021-09-09T18:17:46.258006</td>\n",
       "      <td>0.0</td>\n",
       "      <td>4</td>\n",
       "      <td>1.96</td>\n",
       "    </tr>\n",
       "    <tr>\n",
       "      <th>1</th>\n",
       "      <td>twitter.com</td>\n",
       "      <td>Stumbled across an interesting case, a woman f...</td>\n",
       "      <td>Stumbled across an interesting case, a woman f...</td>\n",
       "      <td>Stumbled across an interesting case, a woman f...</td>\n",
       "      <td>http://twitter.com/CoruscaKhaya/status/1435585...</td>\n",
       "      <td>2021-09-08T13:02:45.802298</td>\n",
       "      <td>0.0</td>\n",
       "      <td>4</td>\n",
       "      <td>12.00</td>\n",
       "    </tr>\n",
       "  </tbody>\n",
       "</table>\n",
       "</div>"
      ],
      "text/plain": [
       "                Domain                                              Title  \\\n",
       "0  rassegnastampa.news  Boris Johnson using a taxpayer-funded jet for ...   \n",
       "1          twitter.com  Stumbled across an interesting case, a woman f...   \n",
       "\n",
       "                                         Description  \\\n",
       "0  …often trigger a protest vote that can upset…t...   \n",
       "1  Stumbled across an interesting case, a woman f...   \n",
       "\n",
       "                                                Body  \\\n",
       "0  Boris Johnson using a taxpayer-funded jet for ...   \n",
       "1  Stumbled across an interesting case, a woman f...   \n",
       "\n",
       "                                                Link  \\\n",
       "0  https://rassegnastampa.news/boris-johnson-usin...   \n",
       "1  http://twitter.com/CoruscaKhaya/status/1435585...   \n",
       "\n",
       "                    timestamp  Analyst_Average_Score  Analyst_Rank  \\\n",
       "0  2021-09-09T18:17:46.258006                    0.0             4   \n",
       "1  2021-09-08T13:02:45.802298                    0.0             4   \n",
       "\n",
       "   Reference_Final_Score  \n",
       "0                   1.96  \n",
       "1                  12.00  "
      ]
     },
     "execution_count": 5,
     "metadata": {},
     "output_type": "execute_result"
    }
   ],
   "source": [
    "data_news.head(2)"
   ]
  },
  {
   "cell_type": "code",
   "execution_count": 6,
   "id": "019927e7",
   "metadata": {
    "scrolled": true
   },
   "outputs": [
    {
     "name": "stdout",
     "output_type": "stream",
     "text": [
      "<class 'pandas.core.frame.DataFrame'>\n",
      "RangeIndex: 10 entries, 0 to 9\n",
      "Data columns (total 9 columns):\n",
      " #   Column                 Non-Null Count  Dtype  \n",
      "---  ------                 --------------  -----  \n",
      " 0   Domain                 10 non-null     object \n",
      " 1   Title                  10 non-null     object \n",
      " 2   Description            10 non-null     object \n",
      " 3   Body                   10 non-null     object \n",
      " 4   Link                   10 non-null     object \n",
      " 5   timestamp              10 non-null     object \n",
      " 6   Analyst_Average_Score  10 non-null     float64\n",
      " 7   Analyst_Rank           10 non-null     int64  \n",
      " 8   Reference_Final_Score  10 non-null     float64\n",
      "dtypes: float64(2), int64(1), object(6)\n",
      "memory usage: 848.0+ bytes\n"
     ]
    }
   ],
   "source": [
    "data_news.info()"
   ]
  },
  {
   "cell_type": "markdown",
   "id": "01ae372e",
   "metadata": {},
   "source": [
    "We have only 10 examples. No issues of missing data"
   ]
  },
  {
   "cell_type": "code",
   "execution_count": 7,
   "id": "afe2eb96",
   "metadata": {},
   "outputs": [
    {
     "data": {
      "text/plain": [
       "5    Male arrested for the murder of an elderly female in Cofimvaba – SAPS Crime Report: 2021-09-09 13:22:58\n",
       "7                             The construction sector is expected to be boosted by riots and looting repairs\n",
       "8                       News24.com | Court dismisses attempt by former Eskom CEO to 'punish' woman for tweet\n",
       "Name: Title, dtype: object"
      ]
     },
     "execution_count": 7,
     "metadata": {},
     "output_type": "execute_result"
    }
   ],
   "source": [
    "# let's take a look on titles of news items that have non-zero score with respect to the topic of \"public unrest\"\n",
    "\n",
    "pd.set_option('display.max_colwidth', None)\n",
    "data_news.loc[data_news['Analyst_Average_Score']!= 0, 'Title' ]"
   ]
  },
  {
   "cell_type": "code",
   "execution_count": 8,
   "id": "5ab7c629",
   "metadata": {},
   "outputs": [],
   "source": [
    "pd.set_option('display.max_colwidth', 50)"
   ]
  },
  {
   "cell_type": "markdown",
   "id": "0785c23a",
   "metadata": {},
   "source": [
    "---------------------------------------------------------------------------------------------------------------------------"
   ]
  },
  {
   "cell_type": "markdown",
   "id": "0b461455",
   "metadata": {},
   "source": [
    "# Project 2:\n",
    "\n",
    "### Project Overview\n",
    "The data are job descriptions ( together named entities)  and  relationships between entities in json format. To understand more about where the data comes from, read [How to Train a Joint Entities and Relation Extraction Classifier using BERT Transformer with spaCy 3](https://towardsdatascience.com/how-to-train-a-joint-entities-and-relation-extraction-classifier-using-bert-transformer-with-spacy-49eb08d91b5c)\n",
    "\n",
    "- **Dataset 1:** For development and training\n",
    "- **Dataset 2:** For testing and final reporting\n"
   ]
  },
  {
   "cell_type": "code",
   "execution_count": 9,
   "id": "11d8b604",
   "metadata": {},
   "outputs": [],
   "source": [
    "path = \"data/relations_dev.json\"\n",
    "repo = \"../\"\n",
    "version = \"v0\"\n",
    "\n",
    "data_url = DvcApi.get_url(path = path, repo = repo, rev = version)\n",
    "data_JobDev = pd.read_json(data_url)"
   ]
  },
  {
   "cell_type": "code",
   "execution_count": 10,
   "id": "22549649",
   "metadata": {
    "scrolled": true
   },
   "outputs": [
    {
     "data": {
      "text/html": [
       "<div>\n",
       "<style scoped>\n",
       "    .dataframe tbody tr th:only-of-type {\n",
       "        vertical-align: middle;\n",
       "    }\n",
       "\n",
       "    .dataframe tbody tr th {\n",
       "        vertical-align: top;\n",
       "    }\n",
       "\n",
       "    .dataframe thead th {\n",
       "        text-align: right;\n",
       "    }\n",
       "</style>\n",
       "<table border=\"1\" class=\"dataframe\">\n",
       "  <thead>\n",
       "    <tr style=\"text-align: right;\">\n",
       "      <th></th>\n",
       "      <th>document</th>\n",
       "      <th>tokens</th>\n",
       "      <th>relations</th>\n",
       "    </tr>\n",
       "  </thead>\n",
       "  <tbody>\n",
       "    <tr>\n",
       "      <th>0</th>\n",
       "      <td>Bachelor's degree in Mechanical Engineering or...</td>\n",
       "      <td>[{'text': 'Bachelor', 'start': 0, 'end': 8, 't...</td>\n",
       "      <td>[{'child': 4, 'head': 0, 'relationLabel': 'DEG...</td>\n",
       "    </tr>\n",
       "    <tr>\n",
       "      <th>1</th>\n",
       "      <td>10+ years of software engineering work experie...</td>\n",
       "      <td>[{'text': '10+ years', 'start': 0, 'end': 9, '...</td>\n",
       "      <td>[{'child': 4, 'head': 0, 'relationLabel': 'EXP...</td>\n",
       "    </tr>\n",
       "    <tr>\n",
       "      <th>2</th>\n",
       "      <td>3+ years Swift &amp; Objective-C and experience wi...</td>\n",
       "      <td>[{'text': '3+ years', 'start': 0, 'end': 8, 't...</td>\n",
       "      <td>[{'child': 3, 'head': 0, 'relationLabel': 'EXP...</td>\n",
       "    </tr>\n",
       "  </tbody>\n",
       "</table>\n",
       "</div>"
      ],
      "text/plain": [
       "                                            document  \\\n",
       "0  Bachelor's degree in Mechanical Engineering or...   \n",
       "1  10+ years of software engineering work experie...   \n",
       "2  3+ years Swift & Objective-C and experience wi...   \n",
       "\n",
       "                                              tokens  \\\n",
       "0  [{'text': 'Bachelor', 'start': 0, 'end': 8, 't...   \n",
       "1  [{'text': '10+ years', 'start': 0, 'end': 9, '...   \n",
       "2  [{'text': '3+ years', 'start': 0, 'end': 8, 't...   \n",
       "\n",
       "                                           relations  \n",
       "0  [{'child': 4, 'head': 0, 'relationLabel': 'DEG...  \n",
       "1  [{'child': 4, 'head': 0, 'relationLabel': 'EXP...  \n",
       "2  [{'child': 3, 'head': 0, 'relationLabel': 'EXP...  "
      ]
     },
     "execution_count": 10,
     "metadata": {},
     "output_type": "execute_result"
    }
   ],
   "source": [
    "# lets look at a few of the examples\n",
    "data_JobDev.head(3)"
   ]
  },
  {
   "cell_type": "code",
   "execution_count": 11,
   "id": "6a31b9b1",
   "metadata": {},
   "outputs": [
    {
     "data": {
      "text/plain": [
       "document     Bachelor's degree in Mechanical Engineering or...\n",
       "tokens       [{'text': 'Bachelor', 'start': 0, 'end': 8, 't...\n",
       "relations    [{'child': 4, 'head': 0, 'relationLabel': 'DEG...\n",
       "Name: 0, dtype: object"
      ]
     },
     "execution_count": 11,
     "metadata": {},
     "output_type": "execute_result"
    }
   ],
   "source": [
    "# The first example\n",
    "data_JobDev.loc[0]"
   ]
  },
  {
   "cell_type": "code",
   "execution_count": 12,
   "id": "3dabfea3",
   "metadata": {},
   "outputs": [
    {
     "name": "stdout",
     "output_type": "stream",
     "text": [
      "<class 'pandas.core.frame.DataFrame'>\n",
      "RangeIndex: 22 entries, 0 to 21\n",
      "Data columns (total 3 columns):\n",
      " #   Column     Non-Null Count  Dtype \n",
      "---  ------     --------------  ----- \n",
      " 0   document   22 non-null     object\n",
      " 1   tokens     22 non-null     object\n",
      " 2   relations  22 non-null     object\n",
      "dtypes: object(3)\n",
      "memory usage: 656.0+ bytes\n"
     ]
    }
   ],
   "source": [
    "data_JobDev.info()"
   ]
  },
  {
   "cell_type": "markdown",
   "id": "ec21116c",
   "metadata": {},
   "source": [
    "At the first look it seems there are no missing data. But there might be examples with no extracted entities"
   ]
  },
  {
   "cell_type": "code",
   "execution_count": 13,
   "id": "1d0dca14",
   "metadata": {},
   "outputs": [
    {
     "name": "stdout",
     "output_type": "stream",
     "text": [
      "Number of documents with zero exctracted entities is 2\n"
     ]
    }
   ],
   "source": [
    "# how many documents have zero exctracted tokens?\n",
    "\n",
    "empty_tokens = data_JobDev.tokens.apply(lambda x: len(x) == 0)\n",
    "\n",
    "print(\"Number of documents with zero exctracted entities is {}\".format(sum(empty_tokens)))"
   ]
  },
  {
   "cell_type": "code",
   "execution_count": 14,
   "id": "4fa8b580",
   "metadata": {},
   "outputs": [
    {
     "data": {
      "text/html": [
       "<div>\n",
       "<style scoped>\n",
       "    .dataframe tbody tr th:only-of-type {\n",
       "        vertical-align: middle;\n",
       "    }\n",
       "\n",
       "    .dataframe tbody tr th {\n",
       "        vertical-align: top;\n",
       "    }\n",
       "\n",
       "    .dataframe thead th {\n",
       "        text-align: right;\n",
       "    }\n",
       "</style>\n",
       "<table border=\"1\" class=\"dataframe\">\n",
       "  <thead>\n",
       "    <tr style=\"text-align: right;\">\n",
       "      <th></th>\n",
       "      <th>document</th>\n",
       "      <th>tokens</th>\n",
       "      <th>relations</th>\n",
       "    </tr>\n",
       "  </thead>\n",
       "  <tbody>\n",
       "    <tr>\n",
       "      <th>15</th>\n",
       "      <td>Experience with Golang (Go Programming Languag...</td>\n",
       "      <td>[]</td>\n",
       "      <td>[]</td>\n",
       "    </tr>\n",
       "    <tr>\n",
       "      <th>16</th>\n",
       "      <td>Experience with C/C++ and Python. Experience w...</td>\n",
       "      <td>[]</td>\n",
       "      <td>[]</td>\n",
       "    </tr>\n",
       "  </tbody>\n",
       "</table>\n",
       "</div>"
      ],
      "text/plain": [
       "                                             document tokens relations\n",
       "15  Experience with Golang (Go Programming Languag...     []        []\n",
       "16  Experience with C/C++ and Python. Experience w...     []        []"
      ]
     },
     "execution_count": 14,
     "metadata": {},
     "output_type": "execute_result"
    }
   ],
   "source": [
    "data_JobDev[empty_tokens]"
   ]
  },
  {
   "cell_type": "code",
   "execution_count": 15,
   "id": "5d3f29c7",
   "metadata": {},
   "outputs": [
    {
     "name": "stdout",
     "output_type": "stream",
     "text": [
      "Experience with Golang (Go Programming Language) Experience with Agile software development Strong debug skills, effective verbal and written communication skills, team oriented Preferred Tech and Prof Experience Experience with Kubernetes, microservices architecture, and Docker containers Familiarity with the Linux OS GitHub, JIRA , RESTful APIs, Agile tools EO Statement IBM is committed to creating a diverse environment and is proud to be an equal opportunity employer. All qualified applicants will receive consideration for employment without regard to race, color, religion, gender, gender identity or expression, sexual orientation, national origin, genetics, disability, age, or veteran status. IBM is also committed to compliance with all fair employment practices regarding citizenship and immigration status. . \n",
      "--\n",
      " Experience with C/C++ and Python. Experience with LabWindows/CVI, LabVIEW and/or TestStand. Experience developing software that interfaces and controls hardware devices over USB/serial/network etc. Knowledge of displays, cameras, and IMU calibration and calibration requirements. Knowledge of databases. Knowledge with configuration management such as Ansible. Knowledge developing solutions in both Linux and Windows environments. Proven experience introducing and qualifying manufacturing test solutions to production facilities. Experience designing and executing development projects with a design of experiment approach (DOE) to service, troubleshoot, and solve engineering problems. Knowledge in statistical methods (6s, SPC, Cpk) for data analysis in production control processes. PREFERRED Bachelors degree, BSEE or BS Computer Engineering with 5+ years experience.\n"
     ]
    }
   ],
   "source": [
    "# print the two documents that have zero exctracted tokens, maybe we can see some pattern\n",
    "\n",
    "print(data_JobDev[empty_tokens].iloc[0].document, '\\n--\\n', data_JobDev[empty_tokens].iloc[1].document)"
   ]
  },
  {
   "cell_type": "code",
   "execution_count": 16,
   "id": "b6036efa",
   "metadata": {},
   "outputs": [],
   "source": [
    "# We drop these cases as they won't be useful\n",
    "\n",
    "data_JobDev.drop(data_JobDev[empty_tokens].index, inplace= True)"
   ]
  },
  {
   "cell_type": "code",
   "execution_count": 17,
   "id": "9775eef2",
   "metadata": {},
   "outputs": [],
   "source": [
    "# write it out \n",
    "data_JobDev.to_json(\"../data/relations_dev.json\")"
   ]
  },
  {
   "cell_type": "markdown",
   "id": "c1726c50",
   "metadata": {},
   "source": [
    "--------------------------------------------------------------------------------------------------------------------------"
   ]
  },
  {
   "cell_type": "code",
   "execution_count": 18,
   "id": "c036cf4d",
   "metadata": {},
   "outputs": [],
   "source": [
    "path = \"data/relations_test.json\"\n",
    "repo = \"../\"\n",
    "version = \"v0\"\n",
    "\n",
    "data_url = DvcApi.get_url(path = path, repo = repo, rev = version)\n",
    "\n",
    "data_JobTest = pd.read_json(data_url)"
   ]
  },
  {
   "cell_type": "code",
   "execution_count": 19,
   "id": "56e87743",
   "metadata": {},
   "outputs": [
    {
     "data": {
      "text/html": [
       "<div>\n",
       "<style scoped>\n",
       "    .dataframe tbody tr th:only-of-type {\n",
       "        vertical-align: middle;\n",
       "    }\n",
       "\n",
       "    .dataframe tbody tr th {\n",
       "        vertical-align: top;\n",
       "    }\n",
       "\n",
       "    .dataframe thead th {\n",
       "        text-align: right;\n",
       "    }\n",
       "</style>\n",
       "<table border=\"1\" class=\"dataframe\">\n",
       "  <thead>\n",
       "    <tr style=\"text-align: right;\">\n",
       "      <th></th>\n",
       "      <th>document</th>\n",
       "      <th>tokens</th>\n",
       "      <th>relations</th>\n",
       "    </tr>\n",
       "  </thead>\n",
       "  <tbody>\n",
       "    <tr>\n",
       "      <th>0</th>\n",
       "      <td>\\nCurrently holding a faculty, industry, or go...</td>\n",
       "      <td>[{'text': 'Ph.D.', 'start': 75, 'end': 80, 'to...</td>\n",
       "      <td>[{'child': 18, 'head': 14, 'relationLabel': 'D...</td>\n",
       "    </tr>\n",
       "    <tr>\n",
       "      <th>1</th>\n",
       "      <td>\\n2+ years experience in the online advertisin...</td>\n",
       "      <td>[{'text': '2+ years', 'start': 1, 'end': 9, 't...</td>\n",
       "      <td>[{'child': 7, 'head': 1, 'relationLabel': 'EXP...</td>\n",
       "    </tr>\n",
       "  </tbody>\n",
       "</table>\n",
       "</div>"
      ],
      "text/plain": [
       "                                            document  \\\n",
       "0  \\nCurrently holding a faculty, industry, or go...   \n",
       "1  \\n2+ years experience in the online advertisin...   \n",
       "\n",
       "                                              tokens  \\\n",
       "0  [{'text': 'Ph.D.', 'start': 75, 'end': 80, 'to...   \n",
       "1  [{'text': '2+ years', 'start': 1, 'end': 9, 't...   \n",
       "\n",
       "                                           relations  \n",
       "0  [{'child': 18, 'head': 14, 'relationLabel': 'D...  \n",
       "1  [{'child': 7, 'head': 1, 'relationLabel': 'EXP...  "
      ]
     },
     "execution_count": 19,
     "metadata": {},
     "output_type": "execute_result"
    }
   ],
   "source": [
    "data_JobTest.head(2)"
   ]
  },
  {
   "cell_type": "code",
   "execution_count": 20,
   "id": "75f57742",
   "metadata": {},
   "outputs": [
    {
     "name": "stdout",
     "output_type": "stream",
     "text": [
      "<class 'pandas.core.frame.DataFrame'>\n",
      "RangeIndex: 11 entries, 0 to 10\n",
      "Data columns (total 3 columns):\n",
      " #   Column     Non-Null Count  Dtype \n",
      "---  ------     --------------  ----- \n",
      " 0   document   11 non-null     object\n",
      " 1   tokens     11 non-null     object\n",
      " 2   relations  11 non-null     object\n",
      "dtypes: object(3)\n",
      "memory usage: 392.0+ bytes\n"
     ]
    }
   ],
   "source": [
    "data_JobTest.info()"
   ]
  },
  {
   "cell_type": "code",
   "execution_count": 21,
   "id": "0333f761",
   "metadata": {},
   "outputs": [
    {
     "name": "stdout",
     "output_type": "stream",
     "text": [
      "Number of documents with zero exctracted entities is 1\n"
     ]
    }
   ],
   "source": [
    "# how many documents have zero exctracted tokens?\n",
    "\n",
    "empty_tokens = data_JobTest.tokens.apply(lambda x: len(x) == 0)\n",
    "\n",
    "print(\"Number of documents with zero exctracted entities is {}\".format(sum(empty_tokens)))"
   ]
  },
  {
   "cell_type": "code",
   "execution_count": 22,
   "id": "83a5bea6",
   "metadata": {},
   "outputs": [
    {
     "data": {
      "text/html": [
       "<div>\n",
       "<style scoped>\n",
       "    .dataframe tbody tr th:only-of-type {\n",
       "        vertical-align: middle;\n",
       "    }\n",
       "\n",
       "    .dataframe tbody tr th {\n",
       "        vertical-align: top;\n",
       "    }\n",
       "\n",
       "    .dataframe thead th {\n",
       "        text-align: right;\n",
       "    }\n",
       "</style>\n",
       "<table border=\"1\" class=\"dataframe\">\n",
       "  <thead>\n",
       "    <tr style=\"text-align: right;\">\n",
       "      <th></th>\n",
       "      <th>document</th>\n",
       "      <th>tokens</th>\n",
       "      <th>relations</th>\n",
       "    </tr>\n",
       "  </thead>\n",
       "  <tbody>\n",
       "    <tr>\n",
       "      <th>6</th>\n",
       "      <td>\\nPh.D. with 5+ years of experience, MS with 7...</td>\n",
       "      <td>[]</td>\n",
       "      <td>[]</td>\n",
       "    </tr>\n",
       "  </tbody>\n",
       "</table>\n",
       "</div>"
      ],
      "text/plain": [
       "                                            document tokens relations\n",
       "6  \\nPh.D. with 5+ years of experience, MS with 7...     []        []"
      ]
     },
     "execution_count": 22,
     "metadata": {},
     "output_type": "execute_result"
    }
   ],
   "source": [
    "data_JobTest[empty_tokens]"
   ]
  },
  {
   "cell_type": "code",
   "execution_count": 23,
   "id": "25e9d70b",
   "metadata": {
    "scrolled": true
   },
   "outputs": [
    {
     "data": {
      "text/plain": [
       "'\\nPh.D. with 5+ years of experience, MS with 7+ years of experience, or BS with 10+ years of experience in Physics, Electrical Engineering, Computer Science, or a related technical field such us architecting, developing, and launching hardware/software projects and/or services\\nDemonstrated knowledge dissemination through authored publications, international conference presentations or shipped products\\nML/AI basics, and systems basics, including the requisite programming experience (python or equivalent, and at least one systems-level programming language: C, C++, Java, Go, Rust, or equivalent)\\nExperience with data analytics  (data collection, storage, cleaning, processing with statistics, visualization, and other data related processes)\\nExperience working on communication systems in a research and/or development capacity\\nTechnical leadership in leading research efforts with a demonstrated experience handling multiple priorities\\n\\nPREFERRED \\nDeep understanding of how culture and team dynamics create exceptional teams'"
      ]
     },
     "execution_count": 23,
     "metadata": {},
     "output_type": "execute_result"
    }
   ],
   "source": [
    "# print the two documents that have zero exctracted tokens, maybe we can see some pattern\n",
    "\n",
    "data_JobTest[empty_tokens].iloc[0].document"
   ]
  },
  {
   "cell_type": "code",
   "execution_count": 24,
   "id": "187bdf54",
   "metadata": {},
   "outputs": [],
   "source": [
    "# We drop these cases as they won't be useful\n",
    "\n",
    "data_JobTest.drop(data_JobTest[empty_tokens].index, inplace= True)"
   ]
  },
  {
   "cell_type": "code",
   "execution_count": 25,
   "id": "cbd95048",
   "metadata": {},
   "outputs": [],
   "source": [
    "# write it out \n",
    "data_JobTest.to_json(\"../data/relations_test.json\")"
   ]
  }
 ],
 "metadata": {
  "kernelspec": {
   "display_name": "Python 3 (ipykernel)",
   "language": "python",
   "name": "python3"
  },
  "language_info": {
   "codemirror_mode": {
    "name": "ipython",
    "version": 3
   },
   "file_extension": ".py",
   "mimetype": "text/x-python",
   "name": "python",
   "nbconvert_exporter": "python",
   "pygments_lexer": "ipython3",
   "version": "3.10.4"
  }
 },
 "nbformat": 4,
 "nbformat_minor": 5
}
