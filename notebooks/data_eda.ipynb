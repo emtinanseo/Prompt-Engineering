{
 "cells": [
  {
   "cell_type": "code",
   "execution_count": 1,
   "id": "b153dd02",
   "metadata": {},
   "outputs": [],
   "source": [
    "import pandas as pd"
   ]
  },
  {
   "cell_type": "code",
   "execution_count": 2,
   "id": "7bb660c4",
   "metadata": {},
   "outputs": [],
   "source": [
    "#import cohere"
   ]
  },
  {
   "cell_type": "code",
   "execution_count": 3,
   "id": "b4cdedda",
   "metadata": {},
   "outputs": [],
   "source": [
    "# Paste your API key here. Remember to not share publicly\n",
    "#api_key = 'qPKnuy0sl0o4eg2bQ9nOe6qVmzTZoYcZT28DXvoN'\n",
    "\n",
    "# Create and retrieve a Cohere API key from os.cohere.ai\n",
    "#co = cohere.Client(api_key)"
   ]
  },
  {
   "cell_type": "code",
   "execution_count": 8,
   "id": "24f9704b",
   "metadata": {},
   "outputs": [],
   "source": [
    "import dvc.api as DvcApi"
   ]
  },
  {
   "cell_type": "code",
   "execution_count": 9,
   "id": "ccc1e6d3",
   "metadata": {},
   "outputs": [
    {
     "ename": "FileMissingError",
     "evalue": "Can't find 'data/Example_data1.csv' neither locally nor on remote",
     "output_type": "error",
     "traceback": [
      "\u001b[1;31m---------------------------------------------------------------------------\u001b[0m",
      "\u001b[1;31mFileNotFoundError\u001b[0m                         Traceback (most recent call last)",
      "File \u001b[1;32m~\\Desktop\\10academy\\week04\\Prompt-Engineering\\env\\lib\\site-packages\\dvc\\repo\\__init__.py:559\u001b[0m, in \u001b[0;36mRepo.open_by_relpath\u001b[1;34m(self, path, remote, mode, encoding)\u001b[0m\n\u001b[0;32m    557\u001b[0m     fs_path \u001b[38;5;241m=\u001b[39m remote_odb\u001b[38;5;241m.\u001b[39moid_to_path(oid)\n\u001b[1;32m--> 559\u001b[0m \u001b[38;5;28;01mwith\u001b[39;00m \u001b[43mfs\u001b[49m\u001b[38;5;241;43m.\u001b[39;49m\u001b[43mopen\u001b[49m\u001b[43m(\u001b[49m\n\u001b[0;32m    560\u001b[0m \u001b[43m    \u001b[49m\u001b[43mfs_path\u001b[49m\u001b[43m,\u001b[49m\n\u001b[0;32m    561\u001b[0m \u001b[43m    \u001b[49m\u001b[43mmode\u001b[49m\u001b[38;5;241;43m=\u001b[39;49m\u001b[43mmode\u001b[49m\u001b[43m,\u001b[49m\n\u001b[0;32m    562\u001b[0m \u001b[43m    \u001b[49m\u001b[43mencoding\u001b[49m\u001b[38;5;241;43m=\u001b[39;49m\u001b[43mencoding\u001b[49m\u001b[43m,\u001b[49m\n\u001b[0;32m    563\u001b[0m \u001b[43m\u001b[49m\u001b[43m)\u001b[49m \u001b[38;5;28;01mas\u001b[39;00m fobj:\n\u001b[0;32m    564\u001b[0m     \u001b[38;5;28;01myield\u001b[39;00m fobj\n",
      "File \u001b[1;32m~\\Desktop\\10academy\\week04\\Prompt-Engineering\\env\\lib\\site-packages\\dvc_objects\\fs\\base.py:197\u001b[0m, in \u001b[0;36mFileSystem.open\u001b[1;34m(self, path, mode, **kwargs)\u001b[0m\n\u001b[0;32m    196\u001b[0m     kwargs\u001b[38;5;241m.\u001b[39mpop(\u001b[38;5;124m\"\u001b[39m\u001b[38;5;124mencoding\u001b[39m\u001b[38;5;124m\"\u001b[39m, \u001b[38;5;28;01mNone\u001b[39;00m)\n\u001b[1;32m--> 197\u001b[0m \u001b[38;5;28;01mreturn\u001b[39;00m \u001b[38;5;28mself\u001b[39m\u001b[38;5;241m.\u001b[39mfs\u001b[38;5;241m.\u001b[39mopen(path, mode\u001b[38;5;241m=\u001b[39mmode, \u001b[38;5;241m*\u001b[39m\u001b[38;5;241m*\u001b[39mkwargs)\n",
      "File \u001b[1;32m~\\Desktop\\10academy\\week04\\Prompt-Engineering\\env\\lib\\site-packages\\dvc\\fs\\dvc.py:328\u001b[0m, in \u001b[0;36m_DvcFileSystem.open\u001b[1;34m(self, path, mode, encoding, **kwargs)\u001b[0m\n\u001b[0;32m    326\u001b[0m         \u001b[38;5;28;01mraise\u001b[39;00m\n\u001b[1;32m--> 328\u001b[0m \u001b[38;5;28;01mreturn\u001b[39;00m dvc_fs\u001b[38;5;241m.\u001b[39mopen(dvc_path, mode\u001b[38;5;241m=\u001b[39mmode, encoding\u001b[38;5;241m=\u001b[39mencoding, \u001b[38;5;241m*\u001b[39m\u001b[38;5;241m*\u001b[39mkwargs)\n",
      "File \u001b[1;32m~\\Desktop\\10academy\\week04\\Prompt-Engineering\\env\\lib\\site-packages\\dvc_objects\\fs\\base.py:197\u001b[0m, in \u001b[0;36mFileSystem.open\u001b[1;34m(self, path, mode, **kwargs)\u001b[0m\n\u001b[0;32m    196\u001b[0m     kwargs\u001b[38;5;241m.\u001b[39mpop(\u001b[38;5;124m\"\u001b[39m\u001b[38;5;124mencoding\u001b[39m\u001b[38;5;124m\"\u001b[39m, \u001b[38;5;28;01mNone\u001b[39;00m)\n\u001b[1;32m--> 197\u001b[0m \u001b[38;5;28;01mreturn\u001b[39;00m \u001b[38;5;28mself\u001b[39m\u001b[38;5;241m.\u001b[39mfs\u001b[38;5;241m.\u001b[39mopen(path, mode\u001b[38;5;241m=\u001b[39mmode, \u001b[38;5;241m*\u001b[39m\u001b[38;5;241m*\u001b[39mkwargs)\n",
      "File \u001b[1;32m~\\Desktop\\10academy\\week04\\Prompt-Engineering\\env\\lib\\site-packages\\dvc_data\\fs.py:70\u001b[0m, in \u001b[0;36mDataFileSystem.open\u001b[1;34m(self, path, mode, encoding, **kwargs)\u001b[0m\n\u001b[0;32m     67\u001b[0m \u001b[38;5;28;01mdef\u001b[39;00m \u001b[38;5;21mopen\u001b[39m(  \u001b[38;5;66;03m# type: ignore\u001b[39;00m\n\u001b[0;32m     68\u001b[0m     \u001b[38;5;28mself\u001b[39m, path: \u001b[38;5;28mstr\u001b[39m, mode\u001b[38;5;241m=\u001b[39m\u001b[38;5;124m\"\u001b[39m\u001b[38;5;124mr\u001b[39m\u001b[38;5;124m\"\u001b[39m, encoding\u001b[38;5;241m=\u001b[39m\u001b[38;5;28;01mNone\u001b[39;00m, \u001b[38;5;241m*\u001b[39m\u001b[38;5;241m*\u001b[39mkwargs\n\u001b[0;32m     69\u001b[0m ):  \u001b[38;5;66;03m# pylint: disable=arguments-renamed, arguments-differ\u001b[39;00m\n\u001b[1;32m---> 70\u001b[0m     fs, fspath \u001b[38;5;241m=\u001b[39m \u001b[38;5;28mself\u001b[39m\u001b[38;5;241m.\u001b[39m_get_fs_path(path, \u001b[38;5;241m*\u001b[39m\u001b[38;5;241m*\u001b[39mkwargs)\n\u001b[0;32m     71\u001b[0m     \u001b[38;5;28;01mreturn\u001b[39;00m fs\u001b[38;5;241m.\u001b[39mopen(fspath, mode\u001b[38;5;241m=\u001b[39mmode, encoding\u001b[38;5;241m=\u001b[39mencoding)\n",
      "File \u001b[1;32m~\\Desktop\\10academy\\week04\\Prompt-Engineering\\env\\lib\\site-packages\\dvc_data\\fs.py:62\u001b[0m, in \u001b[0;36mDataFileSystem._get_fs_path\u001b[1;34m(self, path)\u001b[0m\n\u001b[0;32m     61\u001b[0m \u001b[38;5;28;01mif\u001b[39;00m \u001b[38;5;129;01mnot\u001b[39;00m entry\u001b[38;5;241m.\u001b[39mremote:\n\u001b[1;32m---> 62\u001b[0m     \u001b[38;5;28;01mraise\u001b[39;00m \u001b[38;5;167;01mFileNotFoundError\u001b[39;00m\n\u001b[0;32m     64\u001b[0m remote_fs_path \u001b[38;5;241m=\u001b[39m entry\u001b[38;5;241m.\u001b[39mremote\u001b[38;5;241m.\u001b[39moid_to_path(value)\n",
      "\u001b[1;31mFileNotFoundError\u001b[0m: ",
      "\nThe above exception was the direct cause of the following exception:\n",
      "\u001b[1;31mFileMissingError\u001b[0m                          Traceback (most recent call last)",
      "Cell \u001b[1;32mIn [9], line 5\u001b[0m\n\u001b[0;32m      2\u001b[0m repo \u001b[38;5;241m=\u001b[39m \u001b[38;5;124m\"\u001b[39m\u001b[38;5;124m../\u001b[39m\u001b[38;5;124m\"\u001b[39m\n\u001b[0;32m      3\u001b[0m version \u001b[38;5;241m=\u001b[39m \u001b[38;5;124m\"\u001b[39m\u001b[38;5;124mv1\u001b[39m\u001b[38;5;124m\"\u001b[39m\n\u001b[1;32m----> 5\u001b[0m content \u001b[38;5;241m=\u001b[39m \u001b[43mDvcApi\u001b[49m\u001b[38;5;241;43m.\u001b[39;49m\u001b[43mread\u001b[49m\u001b[43m(\u001b[49m\u001b[43mpath\u001b[49m\u001b[43m \u001b[49m\u001b[38;5;241;43m=\u001b[39;49m\u001b[43m \u001b[49m\u001b[43mpath\u001b[49m\u001b[43m,\u001b[49m\u001b[43m \u001b[49m\u001b[43mrepo\u001b[49m\u001b[43m \u001b[49m\u001b[38;5;241;43m=\u001b[39;49m\u001b[43m \u001b[49m\u001b[43mrepo\u001b[49m\u001b[43m,\u001b[49m\u001b[43m \u001b[49m\u001b[43mrev\u001b[49m\u001b[43m \u001b[49m\u001b[38;5;241;43m=\u001b[39;49m\u001b[43m \u001b[49m\u001b[43mversion\u001b[49m\u001b[43m)\u001b[49m\n",
      "File \u001b[1;32m~\\Desktop\\10academy\\week04\\Prompt-Engineering\\env\\lib\\site-packages\\dvc\\api\\data.py:210\u001b[0m, in \u001b[0;36mread\u001b[1;34m(path, repo, rev, remote, mode, encoding)\u001b[0m\n\u001b[0;32m    204\u001b[0m \u001b[38;5;28;01mdef\u001b[39;00m \u001b[38;5;21mread\u001b[39m(path, repo\u001b[38;5;241m=\u001b[39m\u001b[38;5;28;01mNone\u001b[39;00m, rev\u001b[38;5;241m=\u001b[39m\u001b[38;5;28;01mNone\u001b[39;00m, remote\u001b[38;5;241m=\u001b[39m\u001b[38;5;28;01mNone\u001b[39;00m, mode\u001b[38;5;241m=\u001b[39m\u001b[38;5;124m\"\u001b[39m\u001b[38;5;124mr\u001b[39m\u001b[38;5;124m\"\u001b[39m, encoding\u001b[38;5;241m=\u001b[39m\u001b[38;5;28;01mNone\u001b[39;00m):\n\u001b[0;32m    205\u001b[0m     \u001b[38;5;124;03m\"\"\"\u001b[39;00m\n\u001b[0;32m    206\u001b[0m \u001b[38;5;124;03m    Returns the contents of a tracked file (by DVC or Git). For Git repos, HEAD\u001b[39;00m\n\u001b[0;32m    207\u001b[0m \u001b[38;5;124;03m    is used unless a rev argument is supplied. The default remote is tried\u001b[39;00m\n\u001b[0;32m    208\u001b[0m \u001b[38;5;124;03m    unless a remote argument is supplied.\u001b[39;00m\n\u001b[0;32m    209\u001b[0m \u001b[38;5;124;03m    \"\"\"\u001b[39;00m\n\u001b[1;32m--> 210\u001b[0m     \u001b[38;5;28;01mwith\u001b[39;00m \u001b[38;5;28mopen\u001b[39m(\n\u001b[0;32m    211\u001b[0m         path, repo\u001b[38;5;241m=\u001b[39mrepo, rev\u001b[38;5;241m=\u001b[39mrev, remote\u001b[38;5;241m=\u001b[39mremote, mode\u001b[38;5;241m=\u001b[39mmode, encoding\u001b[38;5;241m=\u001b[39mencoding\n\u001b[0;32m    212\u001b[0m     ) \u001b[38;5;28;01mas\u001b[39;00m fd:\n\u001b[0;32m    213\u001b[0m         \u001b[38;5;28;01mreturn\u001b[39;00m fd\u001b[38;5;241m.\u001b[39mread()\n",
      "File \u001b[1;32m~\\Desktop\\10academy\\week04\\Prompt-Engineering\\env\\lib\\contextlib.py:135\u001b[0m, in \u001b[0;36m_GeneratorContextManager.__enter__\u001b[1;34m(self)\u001b[0m\n\u001b[0;32m    133\u001b[0m \u001b[38;5;28;01mdel\u001b[39;00m \u001b[38;5;28mself\u001b[39m\u001b[38;5;241m.\u001b[39margs, \u001b[38;5;28mself\u001b[39m\u001b[38;5;241m.\u001b[39mkwds, \u001b[38;5;28mself\u001b[39m\u001b[38;5;241m.\u001b[39mfunc\n\u001b[0;32m    134\u001b[0m \u001b[38;5;28;01mtry\u001b[39;00m:\n\u001b[1;32m--> 135\u001b[0m     \u001b[38;5;28;01mreturn\u001b[39;00m \u001b[38;5;28;43mnext\u001b[39;49m\u001b[43m(\u001b[49m\u001b[38;5;28;43mself\u001b[39;49m\u001b[38;5;241;43m.\u001b[39;49m\u001b[43mgen\u001b[49m\u001b[43m)\u001b[49m\n\u001b[0;32m    136\u001b[0m \u001b[38;5;28;01mexcept\u001b[39;00m \u001b[38;5;167;01mStopIteration\u001b[39;00m:\n\u001b[0;32m    137\u001b[0m     \u001b[38;5;28;01mraise\u001b[39;00m \u001b[38;5;167;01mRuntimeError\u001b[39;00m(\u001b[38;5;124m\"\u001b[39m\u001b[38;5;124mgenerator didn\u001b[39m\u001b[38;5;124m'\u001b[39m\u001b[38;5;124mt yield\u001b[39m\u001b[38;5;124m\"\u001b[39m) \u001b[38;5;28;01mfrom\u001b[39;00m \u001b[38;5;28mNone\u001b[39m\n",
      "File \u001b[1;32m~\\Desktop\\10academy\\week04\\Prompt-Engineering\\env\\lib\\site-packages\\dvc\\api\\data.py:198\u001b[0m, in \u001b[0;36m_open\u001b[1;34m(path, repo, rev, remote, mode, encoding)\u001b[0m\n\u001b[0;32m    196\u001b[0m \u001b[38;5;28;01mdef\u001b[39;00m \u001b[38;5;21m_open\u001b[39m(path, repo\u001b[38;5;241m=\u001b[39m\u001b[38;5;28;01mNone\u001b[39;00m, rev\u001b[38;5;241m=\u001b[39m\u001b[38;5;28;01mNone\u001b[39;00m, remote\u001b[38;5;241m=\u001b[39m\u001b[38;5;28;01mNone\u001b[39;00m, mode\u001b[38;5;241m=\u001b[39m\u001b[38;5;124m\"\u001b[39m\u001b[38;5;124mr\u001b[39m\u001b[38;5;124m\"\u001b[39m, encoding\u001b[38;5;241m=\u001b[39m\u001b[38;5;28;01mNone\u001b[39;00m):\n\u001b[0;32m    197\u001b[0m     \u001b[38;5;28;01mwith\u001b[39;00m Repo\u001b[38;5;241m.\u001b[39mopen(repo, rev\u001b[38;5;241m=\u001b[39mrev, subrepos\u001b[38;5;241m=\u001b[39m\u001b[38;5;28;01mTrue\u001b[39;00m, uninitialized\u001b[38;5;241m=\u001b[39m\u001b[38;5;28;01mTrue\u001b[39;00m) \u001b[38;5;28;01mas\u001b[39;00m _repo:\n\u001b[1;32m--> 198\u001b[0m         \u001b[38;5;28;01mwith\u001b[39;00m _repo\u001b[38;5;241m.\u001b[39mopen_by_relpath(\n\u001b[0;32m    199\u001b[0m             path, remote\u001b[38;5;241m=\u001b[39mremote, mode\u001b[38;5;241m=\u001b[39mmode, encoding\u001b[38;5;241m=\u001b[39mencoding\n\u001b[0;32m    200\u001b[0m         ) \u001b[38;5;28;01mas\u001b[39;00m fd:\n\u001b[0;32m    201\u001b[0m             \u001b[38;5;28;01myield\u001b[39;00m fd\n",
      "File \u001b[1;32m~\\Desktop\\10academy\\week04\\Prompt-Engineering\\env\\lib\\contextlib.py:135\u001b[0m, in \u001b[0;36m_GeneratorContextManager.__enter__\u001b[1;34m(self)\u001b[0m\n\u001b[0;32m    133\u001b[0m \u001b[38;5;28;01mdel\u001b[39;00m \u001b[38;5;28mself\u001b[39m\u001b[38;5;241m.\u001b[39margs, \u001b[38;5;28mself\u001b[39m\u001b[38;5;241m.\u001b[39mkwds, \u001b[38;5;28mself\u001b[39m\u001b[38;5;241m.\u001b[39mfunc\n\u001b[0;32m    134\u001b[0m \u001b[38;5;28;01mtry\u001b[39;00m:\n\u001b[1;32m--> 135\u001b[0m     \u001b[38;5;28;01mreturn\u001b[39;00m \u001b[38;5;28;43mnext\u001b[39;49m\u001b[43m(\u001b[49m\u001b[38;5;28;43mself\u001b[39;49m\u001b[38;5;241;43m.\u001b[39;49m\u001b[43mgen\u001b[49m\u001b[43m)\u001b[49m\n\u001b[0;32m    136\u001b[0m \u001b[38;5;28;01mexcept\u001b[39;00m \u001b[38;5;167;01mStopIteration\u001b[39;00m:\n\u001b[0;32m    137\u001b[0m     \u001b[38;5;28;01mraise\u001b[39;00m \u001b[38;5;167;01mRuntimeError\u001b[39;00m(\u001b[38;5;124m\"\u001b[39m\u001b[38;5;124mgenerator didn\u001b[39m\u001b[38;5;124m'\u001b[39m\u001b[38;5;124mt yield\u001b[39m\u001b[38;5;124m\"\u001b[39m) \u001b[38;5;28;01mfrom\u001b[39;00m \u001b[38;5;28mNone\u001b[39m\n",
      "File \u001b[1;32m~\\Desktop\\10academy\\week04\\Prompt-Engineering\\env\\lib\\site-packages\\dvc\\repo\\__init__.py:566\u001b[0m, in \u001b[0;36mRepo.open_by_relpath\u001b[1;34m(self, path, remote, mode, encoding)\u001b[0m\n\u001b[0;32m    564\u001b[0m         \u001b[38;5;28;01myield\u001b[39;00m fobj\n\u001b[0;32m    565\u001b[0m \u001b[38;5;28;01mexcept\u001b[39;00m \u001b[38;5;167;01mFileNotFoundError\u001b[39;00m \u001b[38;5;28;01mas\u001b[39;00m exc:\n\u001b[1;32m--> 566\u001b[0m     \u001b[38;5;28;01mraise\u001b[39;00m FileMissingError(path) \u001b[38;5;28;01mfrom\u001b[39;00m \u001b[38;5;21;01mexc\u001b[39;00m\n\u001b[0;32m    567\u001b[0m \u001b[38;5;28;01mexcept\u001b[39;00m \u001b[38;5;167;01mIsADirectoryError\u001b[39;00m \u001b[38;5;28;01mas\u001b[39;00m exc:\n\u001b[0;32m    568\u001b[0m     \u001b[38;5;28;01mraise\u001b[39;00m DvcIsADirectoryError(\u001b[38;5;124mf\u001b[39m\u001b[38;5;124m\"\u001b[39m\u001b[38;5;124m'\u001b[39m\u001b[38;5;132;01m{\u001b[39;00mpath\u001b[38;5;132;01m}\u001b[39;00m\u001b[38;5;124m'\u001b[39m\u001b[38;5;124m is a directory\u001b[39m\u001b[38;5;124m\"\u001b[39m) \u001b[38;5;28;01mfrom\u001b[39;00m \u001b[38;5;21;01mexc\u001b[39;00m\n",
      "\u001b[1;31mFileMissingError\u001b[0m: Can't find 'data/Example_data1.csv' neither locally nor on remote"
     ]
    }
   ],
   "source": [
    "path = \"data/Example_data1.csv\"\n",
    "repo = \"../\"\n",
    "version = \"v1\"\n",
    "\n",
    "content = DvcApi.read(path = path, repo = repo, rev = version) #could be tag or git commit"
   ]
  },
  {
   "cell_type": "code",
   "execution_count": null,
   "id": "1354b73d",
   "metadata": {},
   "outputs": [],
   "source": []
  }
 ],
 "metadata": {
  "kernelspec": {
   "display_name": "Python 3 (ipykernel)",
   "language": "python",
   "name": "python3"
  },
  "language_info": {
   "codemirror_mode": {
    "name": "ipython",
    "version": 3
   },
   "file_extension": ".py",
   "mimetype": "text/x-python",
   "name": "python",
   "nbconvert_exporter": "python",
   "pygments_lexer": "ipython3",
   "version": "3.10.4"
  }
 },
 "nbformat": 4,
 "nbformat_minor": 5
}
