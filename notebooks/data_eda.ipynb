{
 "cells": [
  {
   "cell_type": "code",
   "execution_count": 1,
   "id": "f8332c22",
   "metadata": {},
   "outputs": [],
   "source": [
    "import pandas as pd"
   ]
  },
  {
   "cell_type": "code",
   "execution_count": 2,
   "id": "69ab47c0",
   "metadata": {},
   "outputs": [],
   "source": [
    "import sys, os\n",
    "\n",
    "sys.path.append(os.path.abspath(os.path.join(\"../..\")))\n",
    "sys.path.append(os.path.abspath(os.path.join(\"../scripts\")))"
   ]
  },
  {
   "cell_type": "code",
   "execution_count": 3,
   "id": "074ecd27",
   "metadata": {},
   "outputs": [],
   "source": [
    "#import cohere"
   ]
  },
  {
   "cell_type": "code",
   "execution_count": 4,
   "id": "ff3c2dcc",
   "metadata": {},
   "outputs": [],
   "source": [
    "# Paste your API key here. Remember to not share publicly\n",
    "#api_key = 'qPKnuy0sl0o4eg2bQ9nOe6qVmzTZoYcZT28DXvoN'\n",
    "\n",
    "# Create and retrieve a Cohere API key from os.cohere.ai\n",
    "#co = cohere.Client(api_key)"
   ]
  },
  {
   "cell_type": "code",
   "execution_count": 5,
   "id": "b0998632",
   "metadata": {},
   "outputs": [],
   "source": [
    "import dvc.api as DvcApi"
   ]
  },
  {
   "cell_type": "code",
   "execution_count": 9,
   "id": "c5191a92",
   "metadata": {
    "scrolled": false
   },
   "outputs": [
    {
     "ename": "NoRemoteError",
     "evalue": "config file error: no remote specified. Create a default remote with\n    dvc remote add -d <remote name> <remote url>",
     "output_type": "error",
     "traceback": [
      "\u001b[1;31m---------------------------------------------------------------------------\u001b[0m",
      "\u001b[1;31mNoRemoteError\u001b[0m                             Traceback (most recent call last)",
      "Cell \u001b[1;32mIn [9], line 7\u001b[0m\n\u001b[0;32m      4\u001b[0m version \u001b[38;5;241m=\u001b[39m \u001b[38;5;124m\"\u001b[39m\u001b[38;5;124mv1\u001b[39m\u001b[38;5;124m\"\u001b[39m\n\u001b[0;32m      5\u001b[0m \u001b[38;5;66;03m#remote = \"lremote\"\u001b[39;00m\n\u001b[1;32m----> 7\u001b[0m content \u001b[38;5;241m=\u001b[39m \u001b[43mDvcApi\u001b[49m\u001b[38;5;241;43m.\u001b[39;49m\u001b[43mget_url\u001b[49m\u001b[43m(\u001b[49m\u001b[43mpath\u001b[49m\u001b[43m \u001b[49m\u001b[38;5;241;43m=\u001b[39;49m\u001b[43m \u001b[49m\u001b[43mpath\u001b[49m\u001b[43m,\u001b[49m\u001b[43m \u001b[49m\u001b[43mrepo\u001b[49m\u001b[43m \u001b[49m\u001b[38;5;241;43m=\u001b[39;49m\u001b[43m \u001b[49m\u001b[43mrepo\u001b[49m\u001b[43m,\u001b[49m\u001b[43m \u001b[49m\u001b[43mrev\u001b[49m\u001b[43m \u001b[49m\u001b[38;5;241;43m=\u001b[39;49m\u001b[43m \u001b[49m\u001b[43mversion\u001b[49m\u001b[43m)\u001b[49m\n",
      "File \u001b[1;32m~\\Desktop\\10academy\\week04\\Prompt-Engineering\\env\\lib\\site-packages\\dvc\\api\\data.py:33\u001b[0m, in \u001b[0;36mget_url\u001b[1;34m(path, repo, rev, remote)\u001b[0m\n\u001b[0;32m     30\u001b[0m dvc_repo \u001b[38;5;241m=\u001b[39m info[\u001b[38;5;124m\"\u001b[39m\u001b[38;5;124mrepo\u001b[39m\u001b[38;5;124m\"\u001b[39m]\n\u001b[0;32m     31\u001b[0m md5 \u001b[38;5;241m=\u001b[39m dvc_info[\u001b[38;5;124m\"\u001b[39m\u001b[38;5;124mmd5\u001b[39m\u001b[38;5;124m\"\u001b[39m]\n\u001b[1;32m---> 33\u001b[0m \u001b[38;5;28;01mreturn\u001b[39;00m \u001b[43mdvc_repo\u001b[49m\u001b[38;5;241;43m.\u001b[39;49m\u001b[43mcloud\u001b[49m\u001b[38;5;241;43m.\u001b[39;49m\u001b[43mget_url_for\u001b[49m\u001b[43m(\u001b[49m\u001b[43mremote\u001b[49m\u001b[43m,\u001b[49m\u001b[43m \u001b[49m\u001b[43mchecksum\u001b[49m\u001b[38;5;241;43m=\u001b[39;49m\u001b[43mmd5\u001b[49m\u001b[43m)\u001b[49m\n",
      "File \u001b[1;32m~\\Desktop\\10academy\\week04\\Prompt-Engineering\\env\\lib\\site-packages\\dvc\\data_cloud.py:182\u001b[0m, in \u001b[0;36mDataCloud.get_url_for\u001b[1;34m(self, remote, checksum)\u001b[0m\n\u001b[0;32m    181\u001b[0m \u001b[38;5;28;01mdef\u001b[39;00m \u001b[38;5;21mget_url_for\u001b[39m(\u001b[38;5;28mself\u001b[39m, remote, checksum):\n\u001b[1;32m--> 182\u001b[0m     odb \u001b[38;5;241m=\u001b[39m \u001b[38;5;28;43mself\u001b[39;49m\u001b[38;5;241;43m.\u001b[39;49m\u001b[43mget_remote_odb\u001b[49m\u001b[43m(\u001b[49m\u001b[43mremote\u001b[49m\u001b[43m)\u001b[49m\n\u001b[0;32m    183\u001b[0m     path \u001b[38;5;241m=\u001b[39m odb\u001b[38;5;241m.\u001b[39moid_to_path(checksum)\n\u001b[0;32m    184\u001b[0m     \u001b[38;5;28;01mreturn\u001b[39;00m odb\u001b[38;5;241m.\u001b[39mfs\u001b[38;5;241m.\u001b[39munstrip_protocol(path)\n",
      "File \u001b[1;32m~\\Desktop\\10academy\\week04\\Prompt-Engineering\\env\\lib\\site-packages\\dvc\\data_cloud.py:56\u001b[0m, in \u001b[0;36mDataCloud.get_remote_odb\u001b[1;34m(self, name, command)\u001b[0m\n\u001b[0;32m     50\u001b[0m \u001b[38;5;28;01melse\u001b[39;00m:\n\u001b[0;32m     51\u001b[0m     error_msg \u001b[38;5;241m=\u001b[39m (\n\u001b[0;32m     52\u001b[0m         \u001b[38;5;124m\"\u001b[39m\u001b[38;5;124mno remote specified. Create a default remote with\u001b[39m\u001b[38;5;130;01m\\n\u001b[39;00m\u001b[38;5;124m\"\u001b[39m\n\u001b[0;32m     53\u001b[0m         \u001b[38;5;124m\"\u001b[39m\u001b[38;5;124m    dvc remote add -d <remote name> <remote url>\u001b[39m\u001b[38;5;124m\"\u001b[39m\n\u001b[0;32m     54\u001b[0m     )\n\u001b[1;32m---> 56\u001b[0m \u001b[38;5;28;01mraise\u001b[39;00m NoRemoteError(error_msg)\n",
      "\u001b[1;31mNoRemoteError\u001b[0m: config file error: no remote specified. Create a default remote with\n    dvc remote add -d <remote name> <remote url>"
     ]
    }
   ],
   "source": [
    "path = \"data/Example_data1.csv\"\n",
    "#repo = \"https://github.com/emtinanseo/Prompt-Engineering.git\"\n",
    "repo = \"C:/Users/admin/Desktop/10academy/week04/Prompt-Engineering\"\n",
    "version = \"v1\"\n",
    "#remote = \"lremote\"\n",
    "\n",
    "content = DvcApi.get_url(path = path, repo = repo, rev = version) #could be tag or git commit"
   ]
  },
  {
   "cell_type": "code",
   "execution_count": null,
   "id": "4a986461",
   "metadata": {},
   "outputs": [],
   "source": []
  }
 ],
 "metadata": {
  "kernelspec": {
   "display_name": "Python 3 (ipykernel)",
   "language": "python",
   "name": "python3"
  },
  "language_info": {
   "codemirror_mode": {
    "name": "ipython",
    "version": 3
   },
   "file_extension": ".py",
   "mimetype": "text/x-python",
   "name": "python",
   "nbconvert_exporter": "python",
   "pygments_lexer": "ipython3",
   "version": "3.10.4"
  }
 },
 "nbformat": 4,
 "nbformat_minor": 5
}
