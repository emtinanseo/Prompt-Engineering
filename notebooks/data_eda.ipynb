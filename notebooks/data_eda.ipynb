{
 "cells": [
  {
   "cell_type": "code",
   "execution_count": 2,
   "id": "9f06b3cb",
   "metadata": {},
   "outputs": [],
   "source": [
    "import pandas as pd"
   ]
  },
  {
   "cell_type": "code",
   "execution_count": 1,
   "id": "e19300a9",
   "metadata": {},
   "outputs": [],
   "source": [
    "import sys, os\n",
    "\n",
    "sys.path.append(os.path.abspath(os.path.join(\"../..\")))\n",
    "sys.path.append(os.path.abspath(os.path.join(\"../scripts\")))"
   ]
  },
  {
   "cell_type": "code",
   "execution_count": 2,
   "id": "099bf5b8",
   "metadata": {},
   "outputs": [],
   "source": [
    "#import cohere"
   ]
  },
  {
   "cell_type": "code",
   "execution_count": 3,
   "id": "a286643f",
   "metadata": {},
   "outputs": [],
   "source": [
    "# Paste your API key here. Remember to not share publicly\n",
    "#api_key = 'qPKnuy0sl0o4eg2bQ9nOe6qVmzTZoYcZT28DXvoN'\n",
    "\n",
    "# Create and retrieve a Cohere API key from os.cohere.ai\n",
    "#co = cohere.Client(api_key)"
   ]
  },
  {
   "cell_type": "code",
   "execution_count": 3,
   "id": "33290536",
   "metadata": {},
   "outputs": [],
   "source": [
    "import dvc.api as DvcApi"
   ]
  },
  {
   "cell_type": "code",
   "execution_count": 9,
   "id": "699f733c",
   "metadata": {
    "scrolled": false
   },
   "outputs": [
    {
     "ename": "RemoteNotFoundError",
     "evalue": "config file error: remote 'lremote' doesn't exist",
     "output_type": "error",
     "traceback": [
      "\u001b[1;31m---------------------------------------------------------------------------\u001b[0m",
      "\u001b[1;31mKeyError\u001b[0m                                  Traceback (most recent call last)",
      "File \u001b[1;32m~\\Desktop\\10academy\\week04\\Prompt-Engineering\\env\\lib\\site-packages\\dvc\\fs\\__init__.py:51\u001b[0m, in \u001b[0;36mget_fs_config\u001b[1;34m(repo, config, **kwargs)\u001b[0m\n\u001b[0;32m     50\u001b[0m \u001b[38;5;28;01mtry\u001b[39;00m:\n\u001b[1;32m---> 51\u001b[0m     remote_conf \u001b[38;5;241m=\u001b[39m \u001b[43mconfig\u001b[49m\u001b[43m[\u001b[49m\u001b[38;5;124;43m\"\u001b[39;49m\u001b[38;5;124;43mremote\u001b[39;49m\u001b[38;5;124;43m\"\u001b[39;49m\u001b[43m]\u001b[49m\u001b[43m[\u001b[49m\u001b[43mname\u001b[49m\u001b[38;5;241;43m.\u001b[39;49m\u001b[43mlower\u001b[49m\u001b[43m(\u001b[49m\u001b[43m)\u001b[49m\u001b[43m]\u001b[49m\n\u001b[0;32m     52\u001b[0m \u001b[38;5;28;01mexcept\u001b[39;00m \u001b[38;5;167;01mKeyError\u001b[39;00m:\n",
      "\u001b[1;31mKeyError\u001b[0m: 'lremote'",
      "\nDuring handling of the above exception, another exception occurred:\n",
      "\u001b[1;31mRemoteNotFoundError\u001b[0m                       Traceback (most recent call last)",
      "Cell \u001b[1;32mIn [9], line 6\u001b[0m\n\u001b[0;32m      3\u001b[0m version \u001b[38;5;241m=\u001b[39m \u001b[38;5;124m\"\u001b[39m\u001b[38;5;124mv1\u001b[39m\u001b[38;5;124m\"\u001b[39m\n\u001b[0;32m      4\u001b[0m remote \u001b[38;5;241m=\u001b[39m \u001b[38;5;124m\"\u001b[39m\u001b[38;5;124mlremote\u001b[39m\u001b[38;5;124m\"\u001b[39m\n\u001b[1;32m----> 6\u001b[0m content \u001b[38;5;241m=\u001b[39m \u001b[43mDvcApi\u001b[49m\u001b[38;5;241;43m.\u001b[39;49m\u001b[43mget_url\u001b[49m\u001b[43m(\u001b[49m\u001b[43mpath\u001b[49m\u001b[43m \u001b[49m\u001b[38;5;241;43m=\u001b[39;49m\u001b[43m \u001b[49m\u001b[43mpath\u001b[49m\u001b[43m,\u001b[49m\u001b[43m \u001b[49m\u001b[43mrepo\u001b[49m\u001b[43m \u001b[49m\u001b[38;5;241;43m=\u001b[39;49m\u001b[43m \u001b[49m\u001b[43mrepo\u001b[49m\u001b[43m,\u001b[49m\u001b[43m \u001b[49m\u001b[43mrev\u001b[49m\u001b[43m \u001b[49m\u001b[38;5;241;43m=\u001b[39;49m\u001b[43m \u001b[49m\u001b[43mversion\u001b[49m\u001b[43m,\u001b[49m\u001b[43m \u001b[49m\u001b[43mremote\u001b[49m\u001b[43m \u001b[49m\u001b[38;5;241;43m=\u001b[39;49m\u001b[43m \u001b[49m\u001b[43mremote\u001b[49m\u001b[43m)\u001b[49m\n",
      "File \u001b[1;32m~\\Desktop\\10academy\\week04\\Prompt-Engineering\\env\\lib\\site-packages\\dvc\\api\\data.py:33\u001b[0m, in \u001b[0;36mget_url\u001b[1;34m(path, repo, rev, remote)\u001b[0m\n\u001b[0;32m     30\u001b[0m dvc_repo \u001b[38;5;241m=\u001b[39m info[\u001b[38;5;124m\"\u001b[39m\u001b[38;5;124mrepo\u001b[39m\u001b[38;5;124m\"\u001b[39m]\n\u001b[0;32m     31\u001b[0m md5 \u001b[38;5;241m=\u001b[39m dvc_info[\u001b[38;5;124m\"\u001b[39m\u001b[38;5;124mmd5\u001b[39m\u001b[38;5;124m\"\u001b[39m]\n\u001b[1;32m---> 33\u001b[0m \u001b[38;5;28;01mreturn\u001b[39;00m \u001b[43mdvc_repo\u001b[49m\u001b[38;5;241;43m.\u001b[39;49m\u001b[43mcloud\u001b[49m\u001b[38;5;241;43m.\u001b[39;49m\u001b[43mget_url_for\u001b[49m\u001b[43m(\u001b[49m\u001b[43mremote\u001b[49m\u001b[43m,\u001b[49m\u001b[43m \u001b[49m\u001b[43mchecksum\u001b[49m\u001b[38;5;241;43m=\u001b[39;49m\u001b[43mmd5\u001b[49m\u001b[43m)\u001b[49m\n",
      "File \u001b[1;32m~\\Desktop\\10academy\\week04\\Prompt-Engineering\\env\\lib\\site-packages\\dvc\\data_cloud.py:182\u001b[0m, in \u001b[0;36mDataCloud.get_url_for\u001b[1;34m(self, remote, checksum)\u001b[0m\n\u001b[0;32m    181\u001b[0m \u001b[38;5;28;01mdef\u001b[39;00m \u001b[38;5;21mget_url_for\u001b[39m(\u001b[38;5;28mself\u001b[39m, remote, checksum):\n\u001b[1;32m--> 182\u001b[0m     odb \u001b[38;5;241m=\u001b[39m \u001b[38;5;28;43mself\u001b[39;49m\u001b[38;5;241;43m.\u001b[39;49m\u001b[43mget_remote_odb\u001b[49m\u001b[43m(\u001b[49m\u001b[43mremote\u001b[49m\u001b[43m)\u001b[49m\n\u001b[0;32m    183\u001b[0m     path \u001b[38;5;241m=\u001b[39m odb\u001b[38;5;241m.\u001b[39moid_to_path(checksum)\n\u001b[0;32m    184\u001b[0m     \u001b[38;5;28;01mreturn\u001b[39;00m odb\u001b[38;5;241m.\u001b[39mfs\u001b[38;5;241m.\u001b[39munstrip_protocol(path)\n",
      "File \u001b[1;32m~\\Desktop\\10academy\\week04\\Prompt-Engineering\\env\\lib\\site-packages\\dvc\\data_cloud.py:41\u001b[0m, in \u001b[0;36mDataCloud.get_remote_odb\u001b[1;34m(self, name, command)\u001b[0m\n\u001b[0;32m     38\u001b[0m     name \u001b[38;5;241m=\u001b[39m \u001b[38;5;28mself\u001b[39m\u001b[38;5;241m.\u001b[39mrepo\u001b[38;5;241m.\u001b[39mconfig[\u001b[38;5;124m\"\u001b[39m\u001b[38;5;124mcore\u001b[39m\u001b[38;5;124m\"\u001b[39m]\u001b[38;5;241m.\u001b[39mget(\u001b[38;5;124m\"\u001b[39m\u001b[38;5;124mremote\u001b[39m\u001b[38;5;124m\"\u001b[39m)\n\u001b[0;32m     40\u001b[0m \u001b[38;5;28;01mif\u001b[39;00m name:\n\u001b[1;32m---> 41\u001b[0m     \u001b[38;5;28;01mreturn\u001b[39;00m \u001b[38;5;28;43mself\u001b[39;49m\u001b[38;5;241;43m.\u001b[39;49m\u001b[43m_init_odb\u001b[49m\u001b[43m(\u001b[49m\u001b[43mname\u001b[49m\u001b[43m)\u001b[49m\n\u001b[0;32m     43\u001b[0m \u001b[38;5;28;01mif\u001b[39;00m \u001b[38;5;28mbool\u001b[39m(\u001b[38;5;28mself\u001b[39m\u001b[38;5;241m.\u001b[39mrepo\u001b[38;5;241m.\u001b[39mconfig[\u001b[38;5;124m\"\u001b[39m\u001b[38;5;124mremote\u001b[39m\u001b[38;5;124m\"\u001b[39m]):\n\u001b[0;32m     44\u001b[0m     error_msg \u001b[38;5;241m=\u001b[39m (\n\u001b[0;32m     45\u001b[0m         \u001b[38;5;124m\"\u001b[39m\u001b[38;5;124mno remote specified. Setup default remote with\u001b[39m\u001b[38;5;130;01m\\n\u001b[39;00m\u001b[38;5;124m\"\u001b[39m\n\u001b[0;32m     46\u001b[0m         \u001b[38;5;124m\"\u001b[39m\u001b[38;5;124m    dvc remote default <remote name>\u001b[39m\u001b[38;5;130;01m\\n\u001b[39;00m\u001b[38;5;124m\"\u001b[39m\n\u001b[0;32m     47\u001b[0m         \u001b[38;5;124m\"\u001b[39m\u001b[38;5;124mor use:\u001b[39m\u001b[38;5;130;01m\\n\u001b[39;00m\u001b[38;5;124m\"\u001b[39m\n\u001b[0;32m     48\u001b[0m         \u001b[38;5;124m\"\u001b[39m\u001b[38;5;124m    dvc \u001b[39m\u001b[38;5;132;01m{}\u001b[39;00m\u001b[38;5;124m -r <remote name>\u001b[39m\u001b[38;5;124m\"\u001b[39m\u001b[38;5;241m.\u001b[39mformat(command)\n\u001b[0;32m     49\u001b[0m     )\n",
      "File \u001b[1;32m~\\Desktop\\10academy\\week04\\Prompt-Engineering\\env\\lib\\site-packages\\dvc\\data_cloud.py:62\u001b[0m, in \u001b[0;36mDataCloud._init_odb\u001b[1;34m(self, name)\u001b[0m\n\u001b[0;32m     59\u001b[0m \u001b[38;5;28;01mfrom\u001b[39;00m \u001b[38;5;21;01mdvc\u001b[39;00m\u001b[38;5;21;01m.\u001b[39;00m\u001b[38;5;21;01mfs\u001b[39;00m \u001b[38;5;28;01mimport\u001b[39;00m get_cloud_fs\n\u001b[0;32m     60\u001b[0m \u001b[38;5;28;01mfrom\u001b[39;00m \u001b[38;5;21;01mdvc_data\u001b[39;00m\u001b[38;5;21;01m.\u001b[39;00m\u001b[38;5;21;01mdb\u001b[39;00m \u001b[38;5;28;01mimport\u001b[39;00m get_odb\n\u001b[1;32m---> 62\u001b[0m \u001b[38;5;28mcls\u001b[39m, config, fs_path \u001b[38;5;241m=\u001b[39m \u001b[43mget_cloud_fs\u001b[49m\u001b[43m(\u001b[49m\u001b[38;5;28;43mself\u001b[39;49m\u001b[38;5;241;43m.\u001b[39;49m\u001b[43mrepo\u001b[49m\u001b[43m,\u001b[49m\u001b[43m \u001b[49m\u001b[43mname\u001b[49m\u001b[38;5;241;43m=\u001b[39;49m\u001b[43mname\u001b[49m\u001b[43m)\u001b[49m\n\u001b[0;32m     63\u001b[0m config[\u001b[38;5;124m\"\u001b[39m\u001b[38;5;124mtmp_dir\u001b[39m\u001b[38;5;124m\"\u001b[39m] \u001b[38;5;241m=\u001b[39m \u001b[38;5;28mself\u001b[39m\u001b[38;5;241m.\u001b[39mrepo\u001b[38;5;241m.\u001b[39mindex_db_dir\n\u001b[0;32m     64\u001b[0m \u001b[38;5;28;01mreturn\u001b[39;00m get_odb(\u001b[38;5;28mcls\u001b[39m(\u001b[38;5;241m*\u001b[39m\u001b[38;5;241m*\u001b[39mconfig), fs_path, \u001b[38;5;241m*\u001b[39m\u001b[38;5;241m*\u001b[39mconfig)\n",
      "File \u001b[1;32m~\\Desktop\\10academy\\week04\\Prompt-Engineering\\env\\lib\\site-packages\\dvc\\fs\\__init__.py:101\u001b[0m, in \u001b[0;36mget_cloud_fs\u001b[1;34m(repo, **kwargs)\u001b[0m\n\u001b[0;32m     98\u001b[0m repo_config \u001b[38;5;241m=\u001b[39m repo\u001b[38;5;241m.\u001b[39mconfig \u001b[38;5;28;01mif\u001b[39;00m repo \u001b[38;5;28;01melse\u001b[39;00m {}\n\u001b[0;32m     99\u001b[0m core_config \u001b[38;5;241m=\u001b[39m repo_config\u001b[38;5;241m.\u001b[39mget(\u001b[38;5;124m\"\u001b[39m\u001b[38;5;124mcore\u001b[39m\u001b[38;5;124m\"\u001b[39m, {})\n\u001b[1;32m--> 101\u001b[0m remote_conf \u001b[38;5;241m=\u001b[39m get_fs_config(repo, repo_config, \u001b[38;5;241m*\u001b[39m\u001b[38;5;241m*\u001b[39mkwargs)\n\u001b[0;32m    102\u001b[0m \u001b[38;5;28;01mtry\u001b[39;00m:\n\u001b[0;32m    103\u001b[0m     remote_conf \u001b[38;5;241m=\u001b[39m SCHEMA[\u001b[38;5;124m\"\u001b[39m\u001b[38;5;124mremote\u001b[39m\u001b[38;5;124m\"\u001b[39m][\u001b[38;5;28mstr\u001b[39m](remote_conf)\n",
      "File \u001b[1;32m~\\Desktop\\10academy\\week04\\Prompt-Engineering\\env\\lib\\site-packages\\dvc\\fs\\__init__.py:55\u001b[0m, in \u001b[0;36mget_fs_config\u001b[1;34m(repo, config, **kwargs)\u001b[0m\n\u001b[0;32m     52\u001b[0m     \u001b[38;5;28;01mexcept\u001b[39;00m \u001b[38;5;167;01mKeyError\u001b[39;00m:\n\u001b[0;32m     53\u001b[0m         \u001b[38;5;28;01mfrom\u001b[39;00m \u001b[38;5;21;01mdvc\u001b[39;00m\u001b[38;5;21;01m.\u001b[39;00m\u001b[38;5;21;01mconfig\u001b[39;00m \u001b[38;5;28;01mimport\u001b[39;00m RemoteNotFoundError\n\u001b[1;32m---> 55\u001b[0m         \u001b[38;5;28;01mraise\u001b[39;00m RemoteNotFoundError(\u001b[38;5;124mf\u001b[39m\u001b[38;5;124m\"\u001b[39m\u001b[38;5;124mremote \u001b[39m\u001b[38;5;124m'\u001b[39m\u001b[38;5;132;01m{\u001b[39;00mname\u001b[38;5;132;01m}\u001b[39;00m\u001b[38;5;124m'\u001b[39m\u001b[38;5;124m doesn\u001b[39m\u001b[38;5;124m'\u001b[39m\u001b[38;5;124mt exist\u001b[39m\u001b[38;5;124m\"\u001b[39m)\n\u001b[0;32m     56\u001b[0m \u001b[38;5;28;01melse\u001b[39;00m:\n\u001b[0;32m     57\u001b[0m     remote_conf \u001b[38;5;241m=\u001b[39m kwargs\n",
      "\u001b[1;31mRemoteNotFoundError\u001b[0m: config file error: remote 'lremote' doesn't exist"
     ]
    }
   ],
   "source": [
    "path = \"/data/Example_data1.csv\"\n",
    "repo = \"https://github.com/emtinanseo/Prompt-Engineering.git\"\n",
    "version = \"v1\"\n",
    "remote = \"lremote\"\n",
    "\n",
    "content = DvcApi.get_url(path = path, repo = repo, rev = version, remote = remote) #could be tag or git commit"
   ]
  },
  {
   "cell_type": "code",
   "execution_count": null,
   "id": "6710221e",
   "metadata": {},
   "outputs": [],
   "source": []
  }
 ],
 "metadata": {
  "kernelspec": {
   "display_name": "Python 3 (ipykernel)",
   "language": "python",
   "name": "python3"
  },
  "language_info": {
   "codemirror_mode": {
    "name": "ipython",
    "version": 3
   },
   "file_extension": ".py",
   "mimetype": "text/x-python",
   "name": "python",
   "nbconvert_exporter": "python",
   "pygments_lexer": "ipython3",
   "version": "3.10.4"
  }
 },
 "nbformat": 4,
 "nbformat_minor": 5
}
