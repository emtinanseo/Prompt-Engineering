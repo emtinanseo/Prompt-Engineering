{
 "cells": [
  {
   "cell_type": "code",
   "execution_count": 1,
   "id": "ed2a9198",
   "metadata": {},
   "outputs": [],
   "source": [
    "import pandas as pd\n",
    "import dvc.api as DvcApi\n",
    "import cohere"
   ]
  },
  {
   "cell_type": "code",
   "execution_count": 2,
   "id": "d87075f8",
   "metadata": {},
   "outputs": [],
   "source": [
    "import sys, os\n",
    "\n",
    "sys.path.append(os.path.abspath(os.path.join(\"../..\")))\n",
    "sys.path.append(os.path.abspath(os.path.join(\"../scripts\")))"
   ]
  },
  {
   "cell_type": "code",
   "execution_count": 3,
   "id": "5f6f51d4",
   "metadata": {},
   "outputs": [],
   "source": [
    "import os\n",
    "from dotenv import load_dotenv #, find_dotenv"
   ]
  },
  {
   "cell_type": "code",
   "execution_count": 4,
   "id": "f8432c26",
   "metadata": {
    "scrolled": false
   },
   "outputs": [],
   "source": [
    "# dotenv_path = find_dotenv(usecwd=True)\n",
    "# load_dotenv(dotenv_path ,encoding='utf-16')\n",
    "load_dotenv(encoding='utf-16')\n",
    "\n",
    "api_key = os.getenv('apikey')"
   ]
  },
  {
   "cell_type": "code",
   "execution_count": 6,
   "id": "9ab05fb8",
   "metadata": {},
   "outputs": [],
   "source": [
    "# Paste your API key here. Remember to not share publicly\n",
    "\n",
    "# Create and retrieve a Cohere API key from os.cohere.ai\n",
    "co = cohere.Client(api_key)"
   ]
  },
  {
   "cell_type": "code",
   "execution_count": 35,
   "id": "e47e4f35",
   "metadata": {},
   "outputs": [],
   "source": [
    "pd.set_option('display.max_colwidth', None)"
   ]
  },
  {
   "cell_type": "markdown",
   "id": "d2edcf1b",
   "metadata": {},
   "source": [
    "# Named Entity Recognition (NER)  with Generative Model of Cohere\n",
    "\n",
    "In this notebook we use Cohere's generative models to extract entities from a job description. We make use of sturctured generation based on providing multiple examples in the prompt.\n",
    "\n",
    "The data are job descriptions (together named entities) and relationships between entities in json format. In this preliminary work we will not consider the relationships as NER alone is not enough to achieve this.\n",
    "\n",
    "- Dataset 1: For development and training\n",
    "- Dataset 2: For testing and final reporting\n"
   ]
  },
  {
   "cell_type": "markdown",
   "id": "10e236ef",
   "metadata": {},
   "source": [
    "## Preparing examples for the prompt\n",
    "\n",
    "In our prompt, we'll present the model with examples of job descriptions and the type of output we're after."
   ]
  },
  {
   "cell_type": "code",
   "execution_count": 8,
   "id": "4b586335",
   "metadata": {},
   "outputs": [],
   "source": [
    "path = \"data/relations_dev.json\"\n",
    "repo = \"../\"\n",
    "version = \"v2\"\n",
    "\n",
    "data_url = DvcApi.get_url(path = path, repo = repo, rev = version) #could be tag or git commit\n",
    "data_dev = pd.read_json(data_url)"
   ]
  },
  {
   "cell_type": "code",
   "execution_count": 9,
   "id": "7bcf0f0d",
   "metadata": {
    "scrolled": true
   },
   "outputs": [
    {
     "data": {
      "text/html": [
       "<div>\n",
       "<style scoped>\n",
       "    .dataframe tbody tr th:only-of-type {\n",
       "        vertical-align: middle;\n",
       "    }\n",
       "\n",
       "    .dataframe tbody tr th {\n",
       "        vertical-align: top;\n",
       "    }\n",
       "\n",
       "    .dataframe thead th {\n",
       "        text-align: right;\n",
       "    }\n",
       "</style>\n",
       "<table border=\"1\" class=\"dataframe\">\n",
       "  <thead>\n",
       "    <tr style=\"text-align: right;\">\n",
       "      <th></th>\n",
       "      <th>document</th>\n",
       "      <th>tokens</th>\n",
       "      <th>relations</th>\n",
       "    </tr>\n",
       "  </thead>\n",
       "  <tbody>\n",
       "    <tr>\n",
       "      <th>0</th>\n",
       "      <td>Bachelor's degree in Mechanical Engineering or...</td>\n",
       "      <td>[{'text': 'Bachelor', 'start': 0, 'end': 8, 't...</td>\n",
       "      <td>[{'child': 4, 'head': 0, 'relationLabel': 'DEG...</td>\n",
       "    </tr>\n",
       "    <tr>\n",
       "      <th>1</th>\n",
       "      <td>10+ years of software engineering work experie...</td>\n",
       "      <td>[{'text': '10+ years', 'start': 0, 'end': 9, '...</td>\n",
       "      <td>[{'child': 4, 'head': 0, 'relationLabel': 'EXP...</td>\n",
       "    </tr>\n",
       "  </tbody>\n",
       "</table>\n",
       "</div>"
      ],
      "text/plain": [
       "                                            document  \\\n",
       "0  Bachelor's degree in Mechanical Engineering or...   \n",
       "1  10+ years of software engineering work experie...   \n",
       "\n",
       "                                              tokens  \\\n",
       "0  [{'text': 'Bachelor', 'start': 0, 'end': 8, 't...   \n",
       "1  [{'text': '10+ years', 'start': 0, 'end': 9, '...   \n",
       "\n",
       "                                           relations  \n",
       "0  [{'child': 4, 'head': 0, 'relationLabel': 'DEG...  \n",
       "1  [{'child': 4, 'head': 0, 'relationLabel': 'EXP...  "
      ]
     },
     "execution_count": 9,
     "metadata": {},
     "output_type": "execute_result"
    }
   ],
   "source": [
    "data_dev.head(2)"
   ]
  },
  {
   "cell_type": "code",
   "execution_count": 63,
   "id": "eb5affc8",
   "metadata": {},
   "outputs": [],
   "source": [
    "def fun(x):\n",
    "    y = 'Extracted Text:\\n'\n",
    "    if len(x) != 0:\n",
    "        for i in x:\n",
    "            text = i['text']\n",
    "            entityLabel = i['entityLabel']\n",
    "            y = y+entityLabel+': '+text+'\\n'\n",
    "            \n",
    "    return y"
   ]
  },
  {
   "cell_type": "code",
   "execution_count": 64,
   "id": "457d211a",
   "metadata": {
    "collapsed": true
   },
   "outputs": [
    {
     "data": {
      "text/plain": [
       "0                                                                                                                                                                                                  Extracted Text:\\nDIPLOMA: Bachelor\\nDIPLOMA_MAJOR: Mechanical Engineering\\nDIPLOMA_MAJOR: Physical Science\\nEXPERIENCE: 3+ years\\nSKILLS: developing\\nSKILLS: fiber optic cables\\nSKILLS: connector related products\\n\n",
       "1                                                                                                                                                                     Extracted Text:\\nEXPERIENCE: 10+ years\\nSKILLS: software engineering\\nEXPERIENCE: 5+ years\\nSKILLS: technical management\\nSKILLS: release engineering\\nSKILLS: tools engineering\\nSKILLS: DevOps\\nDIPLOMA: BS/MS\\nDIPLOMA_MAJOR: Computer Science\\n\n",
       "2                                                                                                                                                                                                                                                                                                                                                    Extracted Text:\\nEXPERIENCE: 3+ years\\nSKILLS: Swift & Objective-C\\n\n",
       "3                                                                                                                                                                                                                                                                        Extracted Text:\\nEXPERIENCE: 8+ years\\nSKILLS: software engineering\\nEXPERIENCE: 5+ years\\nSKILLS: people management\\nSKILLS: managing leaders\\n\n",
       "4                                                                                                                               Extracted Text:\\nDIPLOMA: BS\\nDIPLOMA_MAJOR: Computer Science\\nEXPERIENCE: 7+ years\\nSKILLS: C++\\nSKILLS: C++11\\nEXPERIENCE: 5+ years\\nSKILLS: creating software for real-time environments\\nSKILLS: games\\nSKILLS: robotics\\nEXPERIENCE: 2+ years\\nSKILLS: managing software engineers\\n\n",
       "5                                                                                                                                                                                                                                                                                                                               Extracted Text:\\nEXPERIENCE: 8+ years\\nSKILLS: development\\nSKILLS: Python\\nSKILLS: C++\\n\n",
       "6                                                                                                                                                                                                                                    Extracted Text:\\nEXPERIENCE: 2+ years\\nSKILLS: performance modeling\\nSKILLS: IT infrastructure\\nSKILLS: access concurrency\\nDIPLOMA: BS / MS\\nDIPLOMA_MAJOR: EE\\nDIPLOMA_MAJOR: CS\\n\n",
       "7                                                                                                                                                                                                           Extracted Text:\\nDIPLOMA: BS/MS\\nDIPLOMA_MAJOR: Computer Science\\nEXPERIENCE: 5+ years\\nSKILLS: architecting\\nSKILLS: developing\\nEXPERIENCE: 4+ years\\nSKILLS: managing cross-functional engineering teams\\n\n",
       "8                                            Extracted Text:\\nEXPERIENCE: 5 + years\\nSKILLS: full-stack software development\\nEXPERIENCE: 5+ years\\nSKILLS: C#\\nEXPERIENCE: 5 + years\\nSKILLS: delivering scalable and resilient services\\nSKILLS: data platforms\\nSKILLS: large-scale analytics\\nEXPERIENCE: 3+ years\\nSKILLS: SWE lead\\nEXPERIENCE: 1+ years\\nSKILLS: DevOps\\nEXPERIENCE: 2+ years\\nSKILLS: designing\\n\n",
       "9     Extracted Text:\\nDIPLOMA: BS\\nDIPLOMA_MAJOR: Electrical Engineering\\nDIPLOMA_MAJOR: Computer Engineering\\nDIPLOMA_MAJOR: Engineering\\nEXPERIENCE: 3+ years\\nSKILLS: industry\\nEXPERIENCE: 3+ years\\nSKILLS: PCB design\\nSKILLS: integrated\\nSKILLS: discrete circuits\\nDIPLOMA: MS\\nDIPLOMA_MAJOR: electrical engineering\\nDIPLOMA_MAJOR: computer engineering\\nEXPERIENCE: 5+ years\\nSKILLS: industry experience\\n\n",
       "10                                                                                                                                                                                                                                                                                                                   Extracted Text:\\nDIPLOMA: BS\\nDIPLOMA_MAJOR: Computer Science\\nDIPLOMA_MAJOR: Computer Engineering\\n\n",
       "11                                                                                                                                                                                                                                                                                                                                                 Extracted Text:\\nDIPLOMA: Bachelor\\nDIPLOMA_MAJOR: Computing Science\\n\n",
       "12                                                                                                                                                                                                                                                                                                      Extracted Text:\\nEXPERIENCE: 1+ years\\nSKILLS: development\\nSKILLS: Java stack\\nSKILLS: AppConnect\\nSKILLS: API\\n\n",
       "13                                                                                                                     Extracted Text:\\nEXPERIENCE: 5+ years\\nDIPLOMA_MAJOR: software engineering\\nSKILLS: technical management\\nEXPERIENCE: 5+ years\\nSKILLS: coding\\nSKILLS: C++\\nSKILLS: Java\\nSKILLS: PHP\\nDIPLOMA: BA/BS\\nDIPLOMA_MAJOR: Computer Science\\nEXPERIENCE: 4+ years\\nSKILLS: relevant work experience)\\n\n",
       "14                                                                                                                                                                                                                 Extracted Text:\\nEXPERIENCE: 8+ years\\nSKILLS: software engineering\\nEXPERIENCE: 3+ years\\nSKILLS: technical management\\nSKILLS: software engineers\\nDIPLOMA: BS/MS\\nDIPLOMA_MAJOR: Computer Science\\n\n",
       "17                                                                                                                                                                                                     Extracted Text:\\nDIPLOMA: BS/MS\\nDIPLOMA_MAJOR: Computer Science\\nEXPERIENCE: 5+ years\\nSKILLS: programming\\nSKILLS: code\\nSKILLS: Java\\nSKILLS: C++\\nSKILLS: C#\\nSKILLS: C\\nSKILLS: object-oriented programming\\n\n",
       "18                                                                                                                       Extracted Text:\\nDIPLOMA: BA/BS degree\\nDIPLOMA_MAJOR: CS\\nEXPERIENCE: 3 or more years\\nSKILLS: engineering management\\nEXPERIENCE: 7 or more years\\nSKILLS: design\\nSKILLS: coding\\nSKILLS: C++\\nSKILLS: C#\\nSKILLS: Java\\nEXPERIENCE: 4 or more years\\nSKILLS: Web UX design\\nSKILLS: coding\\n\n",
       "19                                                                                                                                                                                                                                                                                        Extracted Text:\\nDIPLOMA: Bachelor\\nDIPLOMA_MAJOR: Mechanical Engineering\\nEXPERIENCE: 5 years\\nDIPLOMA_MAJOR: HW engineering\\n\n",
       "20                                                                                                                                                                                                                                                                 Extracted Text:\\nEXPERIENCE: 5 + years\\nSKILLS: industry\\nSKILLS: developing and implementing tools\\nDIPLOMA: BS/MS\\nDIPLOMA_MAJOR: Computer Science\\n\n",
       "21                                                                                                                                                                                                                                                                                                                                      Extracted Text:\\nEXPERIENCE: 7+ years\\nSKILLS: brand\\nSKILLS: product marketing\\n\n",
       "Name: tokens, dtype: object"
      ]
     },
     "execution_count": 64,
     "metadata": {},
     "output_type": "execute_result"
    }
   ],
   "source": [
    "data_dev.tokens.apply(lambda x: fun(x))"
   ]
  },
  {
   "cell_type": "code",
   "execution_count": 79,
   "id": "bde087b3",
   "metadata": {},
   "outputs": [],
   "source": [
    "prompt = ''\n",
    "for i in range(7):\n",
    "    prompt = prompt + 'DOCUMENT: ' + data_dev.iloc[i].document +'\\n'+fun(data_dev.iloc[i].tokens) + '--\\n'"
   ]
  },
  {
   "cell_type": "code",
   "execution_count": 80,
   "id": "241c0c3a",
   "metadata": {},
   "outputs": [],
   "source": [
    "example_prompt = 'DOCUMENT: ' + data_dev.iloc[7].document + '\\n' + 'Extracted Text:'"
   ]
  },
  {
   "cell_type": "code",
   "execution_count": 81,
   "id": "44ac78ca",
   "metadata": {
    "scrolled": true
   },
   "outputs": [],
   "source": [
    "\"\"\"\n",
    "def extract(self, example):\n",
    "    extraction = co.generate(model='large', prompt=self.make_prompt(example), max_tokens=10, \n",
    "                             temperature=0.1, stop_sequences=[\"\\n\"])\n",
    "    return(extraction.generations[0].text[:-1])\n",
    "\"\"\"\n",
    "    \n",
    "extraction = co.generate( model = 'large', prompt = prompt + example_prompt, max_tokens = 100, temperature = 0.1,\n",
    "                        stop_sequences = [\"--\"])"
   ]
  },
  {
   "cell_type": "code",
   "execution_count": 82,
   "id": "c7ab7b7f",
   "metadata": {},
   "outputs": [
    {
     "data": {
      "text/plain": [
       "cohere.Generations {\n",
       "\tgenerations: [cohere.Generation {\n",
       "\ttext: \n",
       "EXPERIENCE: 5+ years\n",
       "SKILLS: backend services\n",
       "EXPERIENCE: 4+ years\n",
       "SKILLS: systems\n",
       "SKILLS: data infrastructure\n",
       "--\n",
       "\tlikelihood: None\n",
       "\ttoken_likelihoods: None\n",
       "}]\n",
       "\treturn_likelihoods: NONE\n",
       "}"
      ]
     },
     "execution_count": 82,
     "metadata": {},
     "output_type": "execute_result"
    }
   ],
   "source": [
    "extraction"
   ]
  },
  {
   "cell_type": "code",
   "execution_count": 83,
   "id": "21435d3e",
   "metadata": {},
   "outputs": [
    {
     "data": {
      "text/plain": [
       "cohere.Generation {\n",
       "\ttext: \n",
       "EXPERIENCE: 5+ years\n",
       "SKILLS: backend services\n",
       "EXPERIENCE: 4+ years\n",
       "SKILLS: systems\n",
       "SKILLS: data infrastructure\n",
       "--\n",
       "\tlikelihood: None\n",
       "\ttoken_likelihoods: None\n",
       "}"
      ]
     },
     "execution_count": 83,
     "metadata": {},
     "output_type": "execute_result"
    }
   ],
   "source": [
    "extraction.generations[0]"
   ]
  },
  {
   "cell_type": "code",
   "execution_count": 84,
   "id": "1e79b26b",
   "metadata": {},
   "outputs": [
    {
     "name": "stdout",
     "output_type": "stream",
     "text": [
      "Extracted Text:\n",
      "DIPLOMA: BS/MS\n",
      "DIPLOMA_MAJOR: Computer Science\n",
      "EXPERIENCE: 5+ years\n",
      "SKILLS: architecting\n",
      "SKILLS: developing\n",
      "EXPERIENCE: 4+ years\n",
      "SKILLS: managing cross-functional engineering teams\n",
      "\n"
     ]
    }
   ],
   "source": [
    "print(fun(data_dev.iloc[7].tokens))"
   ]
  },
  {
   "cell_type": "code",
   "execution_count": null,
   "id": "27d3784b",
   "metadata": {},
   "outputs": [],
   "source": []
  }
 ],
 "metadata": {
  "kernelspec": {
   "display_name": "Python 3 (ipykernel)",
   "language": "python",
   "name": "python3"
  },
  "language_info": {
   "codemirror_mode": {
    "name": "ipython",
    "version": 3
   },
   "file_extension": ".py",
   "mimetype": "text/x-python",
   "name": "python",
   "nbconvert_exporter": "python",
   "pygments_lexer": "ipython3",
   "version": "3.10.4"
  }
 },
 "nbformat": 4,
 "nbformat_minor": 5
}
