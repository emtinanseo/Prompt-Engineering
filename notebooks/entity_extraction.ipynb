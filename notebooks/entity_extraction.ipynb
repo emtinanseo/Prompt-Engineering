{
 "cells": [
  {
   "cell_type": "code",
   "execution_count": 1,
   "id": "ed2a9198",
   "metadata": {},
   "outputs": [],
   "source": [
    "import pandas as pd\n",
    "import cohere\n",
    "import dvc.api as DvcApi\n",
    "from dotenv import load_dotenv "
   ]
  },
  {
   "cell_type": "code",
   "execution_count": 2,
   "id": "d87075f8",
   "metadata": {},
   "outputs": [],
   "source": [
    "import sys, os\n",
    "\n",
    "sys.path.append(os.path.abspath(os.path.join(\"../..\")))\n",
    "sys.path.append(os.path.abspath(os.path.join(\"../scripts\")))"
   ]
  },
  {
   "cell_type": "code",
   "execution_count": 3,
   "id": "6b2bc7ec",
   "metadata": {},
   "outputs": [],
   "source": [
    "import prompt_functions as promptf"
   ]
  },
  {
   "cell_type": "code",
   "execution_count": 4,
   "id": "f8432c26",
   "metadata": {
    "scrolled": false
   },
   "outputs": [],
   "source": [
    "load_dotenv(encoding='utf-16')\n",
    "\n",
    "api_key = os.getenv('apikey')"
   ]
  },
  {
   "cell_type": "code",
   "execution_count": 5,
   "id": "9ab05fb8",
   "metadata": {},
   "outputs": [],
   "source": [
    "# Create and retrieve a Cohere API key from os.cohere.ai\n",
    "co = cohere.Client(api_key)"
   ]
  },
  {
   "cell_type": "code",
   "execution_count": 6,
   "id": "148fb150",
   "metadata": {},
   "outputs": [],
   "source": [
    "pd.set_option('display.max_colwidth', None)"
   ]
  },
  {
   "cell_type": "markdown",
   "id": "d2edcf1b",
   "metadata": {},
   "source": [
    "# Named Entity Recognition (NER)  with Generative Model of Cohere\n",
    "\n",
    "In this notebook we use Cohere's generative models to extract entities from a job description. We make use of sturctured generation based on providing multiple examples in the prompt.\n",
    "\n",
    "The data are job descriptions (together named entities) and relationships between entities in json format. In this preliminary work we will not consider the relationships as NER alone is not enough to achieve this.\n",
    "\n",
    "- Dataset 1: For development and training\n",
    "- Dataset 2: For testing and final reporting\n"
   ]
  },
  {
   "cell_type": "markdown",
   "id": "10e236ef",
   "metadata": {},
   "source": [
    "## Preparing examples for the prompt\n",
    "\n",
    "In our prompt, we'll present the model with examples of job descriptions and the type of output we're after."
   ]
  },
  {
   "cell_type": "code",
   "execution_count": 7,
   "id": "4b586335",
   "metadata": {},
   "outputs": [],
   "source": [
    "path = \"data/relations_dev.json\"\n",
    "repo = \"../\"\n",
    "version = \"v2\"\n",
    "\n",
    "data_url = DvcApi.get_url(path = path, repo = repo, rev = version) #could be tag or git commit\n",
    "data_dev = pd.read_json(data_url)"
   ]
  },
  {
   "cell_type": "code",
   "execution_count": 35,
   "id": "00a020b9",
   "metadata": {},
   "outputs": [],
   "source": [
    "# we put extracted entities in a clearer way\n",
    "\n",
    "df = data_dev.drop(columns = ['tokens', 'relations'])\n",
    "df['tokens'] = data_dev['tokens'].apply(lambda x: promptf.streamline_tokens(x))"
   ]
  },
  {
   "cell_type": "code",
   "execution_count": 36,
   "id": "7bcf0f0d",
   "metadata": {
    "scrolled": true
   },
   "outputs": [
    {
     "data": {
      "text/html": [
       "<div>\n",
       "<style scoped>\n",
       "    .dataframe tbody tr th:only-of-type {\n",
       "        vertical-align: middle;\n",
       "    }\n",
       "\n",
       "    .dataframe tbody tr th {\n",
       "        vertical-align: top;\n",
       "    }\n",
       "\n",
       "    .dataframe thead th {\n",
       "        text-align: right;\n",
       "    }\n",
       "</style>\n",
       "<table border=\"1\" class=\"dataframe\">\n",
       "  <thead>\n",
       "    <tr style=\"text-align: right;\">\n",
       "      <th></th>\n",
       "      <th>document</th>\n",
       "      <th>tokens</th>\n",
       "    </tr>\n",
       "  </thead>\n",
       "  <tbody>\n",
       "    <tr>\n",
       "      <th>0</th>\n",
       "      <td>Bachelor's degree in Mechanical Engineering or Physical Science 3+ years track record of developing or specifying fiber optic cables and connector related products Knowledge of fiber optic component, cabling, and interconnect products, technologies, and standards Experience in statistical data analysis Experience with product life cycle management (PLM) process Experience providing solutions to problems and meeting deadlines Experience engaging stakeholders PREFERRED Advanced degree Experience using a software tool for statistical data analysis such as JMP Experience using Agile as product life-cycle management tool Data center or other mission critical development experience</td>\n",
       "      <td>DIPLOMA: Bachelor\\nDIPLOMA_MAJOR: Mechanical Engineering\\nDIPLOMA_MAJOR: Physical Science\\nEXPERIENCE: 3+ years\\nSKILLS: developing\\nSKILLS: fiber optic cables\\nSKILLS: connector related products</td>\n",
       "    </tr>\n",
       "  </tbody>\n",
       "</table>\n",
       "</div>"
      ],
      "text/plain": [
       "                                                                                                                                                                                                                                                                                                                                                                                                                                                                                                                                                                                                                                                                                                       document  \\\n",
       "0  Bachelor's degree in Mechanical Engineering or Physical Science 3+ years track record of developing or specifying fiber optic cables and connector related products Knowledge of fiber optic component, cabling, and interconnect products, technologies, and standards Experience in statistical data analysis Experience with product life cycle management (PLM) process Experience providing solutions to problems and meeting deadlines Experience engaging stakeholders PREFERRED Advanced degree Experience using a software tool for statistical data analysis such as JMP Experience using Agile as product life-cycle management tool Data center or other mission critical development experience   \n",
       "\n",
       "                                                                                                                                                                                                tokens  \n",
       "0  DIPLOMA: Bachelor\\nDIPLOMA_MAJOR: Mechanical Engineering\\nDIPLOMA_MAJOR: Physical Science\\nEXPERIENCE: 3+ years\\nSKILLS: developing\\nSKILLS: fiber optic cables\\nSKILLS: connector related products  "
      ]
     },
     "execution_count": 36,
     "metadata": {},
     "output_type": "execute_result"
    }
   ],
   "source": [
    "df.head(1)"
   ]
  },
  {
   "cell_type": "markdown",
   "id": "15addd2d",
   "metadata": {},
   "source": [
    "## Zero-Shot Learning"
   ]
  },
  {
   "cell_type": "code",
   "execution_count": 10,
   "id": "e84cd36d",
   "metadata": {},
   "outputs": [],
   "source": [
    "# number of examples is zero\n",
    "\n",
    "num_Ex = 0\n",
    "\n",
    "prompt = promptf.make_prompt(data_dev, num_Ex, same_file= True)"
   ]
  },
  {
   "cell_type": "code",
   "execution_count": 11,
   "id": "ba74cb8b",
   "metadata": {
    "scrolled": true
   },
   "outputs": [
    {
     "name": "stdout",
     "output_type": "stream",
     "text": [
      "DOCUMENT: Bachelor's degree in Mechanical Engineering or Physical Science 3+ years track record of developing or specifying fiber optic cables and connector related products Knowledge of fiber optic component, cabling, and interconnect products, technologies, and standards Experience in statistical data analysis Experience with product life cycle management (PLM) process Experience providing solutions to problems and meeting deadlines Experience engaging stakeholders PREFERRED Advanced degree Experience using a software tool for statistical data analysis such as JMP Experience using Agile as product life-cycle management tool Data center or other mission critical development experience\n",
      "EXTRACTED TEXT:\n"
     ]
    }
   ],
   "source": [
    "# let's look at the prompt\n",
    "\n",
    "print(prompt)"
   ]
  },
  {
   "cell_type": "code",
   "execution_count": 12,
   "id": "6c4040d9",
   "metadata": {},
   "outputs": [],
   "source": [
    "extraction = co.generate( model = 'large', prompt = prompt, max_tokens = 100, temperature = 0.1)"
   ]
  },
  {
   "cell_type": "code",
   "execution_count": 13,
   "id": "b8485b88",
   "metadata": {
    "scrolled": true
   },
   "outputs": [
    {
     "name": "stdout",
     "output_type": "stream",
     "text": [
      "\n",
      "The Senior Product Manager will be responsible for the development and management of the product line of fiber optic cables and connector related products. The Senior Product Manager will be responsible for the development of new products, product enhancements, and product line extensions. The Senior Product Manager will be responsible for the development of product specifications, product life cycle management, and product costing. The Senior Product Manager will be responsible for the development of product marketing and sales strategies. The Senior Product Manager will be responsible for the development of\n"
     ]
    }
   ],
   "source": [
    "print(extraction.generations[0].text)"
   ]
  },
  {
   "cell_type": "code",
   "execution_count": 14,
   "id": "7279e1ce",
   "metadata": {
    "scrolled": true
   },
   "outputs": [
    {
     "name": "stdout",
     "output_type": "stream",
     "text": [
      "DIPLOMA: Bachelor\n",
      "DIPLOMA_MAJOR: Mechanical Engineering\n",
      "DIPLOMA_MAJOR: Physical Science\n",
      "EXPERIENCE: 3+ years\n",
      "SKILLS: developing\n",
      "SKILLS: fiber optic cables\n",
      "SKILLS: connector related products\n"
     ]
    }
   ],
   "source": [
    "# compared to the expected result\n",
    "\n",
    "print(df.iloc[num_Ex]['tokens'])\n",
    "#print(promptf.test_labels(data_dev, num_Ex))"
   ]
  },
  {
   "cell_type": "markdown",
   "id": "94405c33",
   "metadata": {},
   "source": [
    "As expected, zero-shot learning doesn't give us a good answer"
   ]
  },
  {
   "cell_type": "markdown",
   "id": "2ebce7f2",
   "metadata": {},
   "source": [
    "_________________________________________________________________________________________________________________________"
   ]
  },
  {
   "cell_type": "markdown",
   "id": "897bf82b",
   "metadata": {},
   "source": [
    "## Few-Shot Learning"
   ]
  },
  {
   "cell_type": "markdown",
   "id": "8c537d40",
   "metadata": {},
   "source": [
    "### 1. Include 1-4 examples"
   ]
  },
  {
   "cell_type": "code",
   "execution_count": 15,
   "id": "ccd161aa",
   "metadata": {},
   "outputs": [],
   "source": [
    "# we include 1 example\n",
    "\n",
    "num_Ex = 1\n",
    "prompt = promptf.make_prompt(data_dev, num_Ex, same_file= True)\n",
    "\n",
    "extraction = co.generate( model = 'large', prompt = prompt, max_tokens = 100, temperature = 0.1)"
   ]
  },
  {
   "cell_type": "code",
   "execution_count": 16,
   "id": "c9b8a473",
   "metadata": {
    "scrolled": false
   },
   "outputs": [
    {
     "name": "stdout",
     "output_type": "stream",
     "text": [
      "\n",
      "DIPLOMA: Bachelor\n",
      "DIPLOMA_MAJOR: Computer Science\n",
      "EXPERIENCE: 10+ years\n",
      "SKILLS: release automation engineering\n",
      "SKILLS: CI/CD or related roles\n",
      "SKILLS: consumer electronics devices\n",
      "SKILLS: technical teams\n",
      "SKILLS: performance management\n",
      "--\n",
      "DOCUMENT: Bachelor's degree in Computer Science or related field. 5+ years of experience in software engineering. Experience in release\n",
      "\n",
      "compared to the expected result:\n",
      "\n",
      "EXPERIENCE: 10+ years\n",
      "SKILLS: software engineering\n",
      "EXPERIENCE: 5+ years\n",
      "SKILLS: technical management\n",
      "SKILLS: release engineering\n",
      "SKILLS: tools engineering\n",
      "SKILLS: DevOps\n",
      "DIPLOMA: BS/MS\n",
      "DIPLOMA_MAJOR: Computer Science\n"
     ]
    }
   ],
   "source": [
    "print(extraction.generations[0].text)\n",
    "\n",
    "print('\\ncompared to the expected result:\\n')\n",
    "\n",
    "print(df.iloc[num_Ex]['tokens'])"
   ]
  },
  {
   "cell_type": "markdown",
   "id": "fe3a0fe6",
   "metadata": {},
   "source": [
    "The model is extracting too many labels.\n",
    "\n",
    "To solve this we lower the maximum number of tokens it can generate."
   ]
  },
  {
   "cell_type": "code",
   "execution_count": 17,
   "id": "d0c9af39",
   "metadata": {},
   "outputs": [],
   "source": [
    "# we include 2 examples\n",
    "\n",
    "num_Ex = 2\n",
    "prompt = promptf.make_prompt(data_dev, num_Ex, same_file= True)\n",
    "\n",
    "extraction = co.generate( model = 'large', prompt = prompt, max_tokens = 50, temperature = 0.1)"
   ]
  },
  {
   "cell_type": "code",
   "execution_count": 18,
   "id": "a560215a",
   "metadata": {},
   "outputs": [
    {
     "name": "stdout",
     "output_type": "stream",
     "text": [
      "\n",
      "EXPERIENCE: 3+ years\n",
      "SKILLS: Swift\n",
      "SKILLS: Objective-C\n",
      "SKILLS: iOS internals\n",
      "SKILLS: app from scratch\n",
      "SKILLS: portfolio of apps featured in\n",
      "\n",
      "compared to the expected result:\n",
      "\n",
      "EXPERIENCE: 3+ years\n",
      "SKILLS: Swift & Objective-C\n"
     ]
    }
   ],
   "source": [
    "print(extraction.generations[0].text)\n",
    "\n",
    "print('\\ncompared to the expected result:\\n')\n",
    "\n",
    "print(df.iloc[num_Ex]['tokens'])"
   ]
  },
  {
   "cell_type": "code",
   "execution_count": 19,
   "id": "eb30d65a",
   "metadata": {},
   "outputs": [],
   "source": [
    "# we include 3 examples\n",
    "\n",
    "num_Ex = 3\n",
    "prompt = promptf.make_prompt(data_dev, num_Ex, same_file= True)\n",
    "\n",
    "extraction = co.generate( model = 'large', prompt = prompt, max_tokens = 50, temperature = 0.1)"
   ]
  },
  {
   "cell_type": "code",
   "execution_count": 20,
   "id": "26342e4e",
   "metadata": {
    "scrolled": true
   },
   "outputs": [
    {
     "name": "stdout",
     "output_type": "stream",
     "text": [
      "\n",
      "EXPERIENCE: 8+ years\n",
      "SKILLS: software engineering\n",
      "EXPERIENCE: 5+ years\n",
      "SKILLS: people management\n",
      "SKILLS: managing leaders\n",
      "SKILLS: managing remotely across regions\n",
      "SK\n",
      "\n",
      "compared to the expected result:\n",
      "\n",
      "EXPERIENCE: 8+ years\n",
      "SKILLS: software engineering\n",
      "EXPERIENCE: 5+ years\n",
      "SKILLS: people management\n",
      "SKILLS: managing leaders\n"
     ]
    }
   ],
   "source": [
    "print(extraction.generations[0].text)\n",
    "\n",
    "print('\\ncompared to the expected result:\\n')\n",
    "\n",
    "print(df.iloc[num_Ex]['tokens'])"
   ]
  },
  {
   "cell_type": "code",
   "execution_count": 21,
   "id": "b5e35bfe",
   "metadata": {},
   "outputs": [],
   "source": [
    "# we include 4 examples\n",
    "\n",
    "num_Ex = 4\n",
    "prompt = promptf.make_prompt(data_dev, num_Ex, same_file= True)\n",
    "\n",
    "extraction = co.generate( model = 'large', prompt = prompt, max_tokens = 50, temperature = 0.5)"
   ]
  },
  {
   "cell_type": "code",
   "execution_count": 22,
   "id": "b87b2526",
   "metadata": {},
   "outputs": [
    {
     "name": "stdout",
     "output_type": "stream",
     "text": [
      "\n",
      "EXPERIENCE: 7+ years\n",
      "SKILLS: C++\n",
      "EXPERIENCE: 5+ years\n",
      "SKILLS: software engineering\n",
      "SKILLS: real-time environments\n",
      "SKILLS: game or robotics\n",
      "\n",
      "\n",
      "compared to the expected result:\n",
      "\n",
      "DIPLOMA: BS\n",
      "DIPLOMA_MAJOR: Computer Science\n",
      "EXPERIENCE: 7+ years\n",
      "SKILLS: C++\n",
      "SKILLS: C++11\n",
      "EXPERIENCE: 5+ years\n",
      "SKILLS: creating software for real-time environments\n",
      "SKILLS: games\n",
      "SKILLS: robotics\n",
      "EXPERIENCE: 2+ years\n",
      "SKILLS: managing software engineers\n"
     ]
    }
   ],
   "source": [
    "print(extraction.generations[0].text)\n",
    "\n",
    "print('\\ncompared to the expected result:\\n')\n",
    "\n",
    "print(df.iloc[num_Ex]['tokens'])"
   ]
  },
  {
   "cell_type": "markdown",
   "id": "3b514525",
   "metadata": {},
   "source": [
    "### 3. Validate using 5 examples"
   ]
  },
  {
   "cell_type": "code",
   "execution_count": 23,
   "id": "943391ec",
   "metadata": {
    "scrolled": false
   },
   "outputs": [
    {
     "name": "stdout",
     "output_type": "stream",
     "text": [
      "CPU times: total: 734 ms\n",
      "Wall time: 33.3 s\n"
     ]
    }
   ],
   "source": [
    "%%time\n",
    "extracted = []\n",
    "\n",
    "for i in range(5, len(data_dev)):\n",
    "    index = i\n",
    "    prompt = promptf.make_prompt(data_dev, index, numEx= 5, same_file= True)\n",
    "    \n",
    "    extraction = co.generate( model = 'large', prompt = prompt, max_tokens = 50, temperature = 0.5)\n",
    "    \n",
    "    extracted.append(extraction.generations[0].text.strip())"
   ]
  },
  {
   "cell_type": "code",
   "execution_count": 37,
   "id": "ced459c3",
   "metadata": {
    "scrolled": false
   },
   "outputs": [],
   "source": [
    "df.drop(range(5), inplace= True)\n",
    "\n",
    "df['extractedEntities']  = extracted"
   ]
  },
  {
   "cell_type": "code",
   "execution_count": 49,
   "id": "9a8ebff0",
   "metadata": {
    "scrolled": false
   },
   "outputs": [
    {
     "name": "stdout",
     "output_type": "stream",
     "text": [
      "Accuracy 0.0%\n"
     ]
    }
   ],
   "source": [
    "# Compare the tokens to the extracted text\n",
    "df['correct'] = (df['tokens'].str.lower() == df['extractedEntities'].str.lower()).astype(int)\n",
    "\n",
    "# Print the accuracy\n",
    "print(f'Accuracy {df[\"correct\"].mean() *100}%')"
   ]
  },
  {
   "cell_type": "code",
   "execution_count": null,
   "id": "90da91b6",
   "metadata": {},
   "outputs": [],
   "source": [
    "def fun(text):\n",
    "    x = text.split"
   ]
  },
  {
   "cell_type": "code",
   "execution_count": 43,
   "id": "018b76b1",
   "metadata": {},
   "outputs": [
    {
     "data": {
      "text/plain": [
       "['a', 'b', 'c', 'd']"
      ]
     },
     "execution_count": 43,
     "metadata": {},
     "output_type": "execute_result"
    }
   ],
   "source": [
    "x = 'a\\nb\\nc\\nd'\n",
    "\n",
    "y = x.split()\n",
    "y"
   ]
  },
  {
   "cell_type": "code",
   "execution_count": 61,
   "id": "2c3f0b48",
   "metadata": {},
   "outputs": [
    {
     "ename": "TypeError",
     "evalue": "map() must have at least two arguments.",
     "output_type": "error",
     "traceback": [
      "\u001b[1;31m---------------------------------------------------------------------------\u001b[0m",
      "\u001b[1;31mTypeError\u001b[0m                                 Traceback (most recent call last)",
      "Cell \u001b[1;32mIn [61], line 2\u001b[0m\n\u001b[0;32m      1\u001b[0m x \u001b[38;5;241m=\u001b[39m \u001b[38;5;124m'\u001b[39m\u001b[38;5;124mA: B\u001b[39m\u001b[38;5;124m'\u001b[39m\n\u001b[1;32m----> 2\u001b[0m y \u001b[38;5;241m=\u001b[39m (\u001b[38;5;28;43mmap\u001b[39;49m\u001b[43m(\u001b[49m\u001b[43mx\u001b[49m\u001b[38;5;241;43m.\u001b[39;49m\u001b[43msplit\u001b[49m\u001b[43m(\u001b[49m\u001b[38;5;124;43m'\u001b[39;49m\u001b[38;5;124;43m:\u001b[39;49m\u001b[38;5;124;43m'\u001b[39;49m\u001b[43m)\u001b[49m\u001b[43m)\u001b[49m)\n\u001b[0;32m      3\u001b[0m y\n",
      "\u001b[1;31mTypeError\u001b[0m: map() must have at least two arguments."
     ]
    }
   ],
   "source": [
    "x = 'A: B'\n",
    "y = (x.split(':'))\n",
    "y"
   ]
  },
  {
   "cell_type": "code",
   "execution_count": 54,
   "id": "7e4fd337",
   "metadata": {},
   "outputs": [
    {
     "data": {
      "text/plain": [
       "True"
      ]
     },
     "execution_count": 54,
     "metadata": {},
     "output_type": "execute_result"
    }
   ],
   "source": [
    "x = 'a'\n",
    "y = ['a', 'b']\n",
    "\n",
    "x in y"
   ]
  },
  {
   "cell_type": "code",
   "execution_count": 55,
   "id": "308649d3",
   "metadata": {},
   "outputs": [
    {
     "ename": "TypeError",
     "evalue": "'str' object cannot be interpreted as an integer",
     "output_type": "error",
     "traceback": [
      "\u001b[1;31m---------------------------------------------------------------------------\u001b[0m",
      "\u001b[1;31mTypeError\u001b[0m                                 Traceback (most recent call last)",
      "Cell \u001b[1;32mIn [55], line 1\u001b[0m\n\u001b[1;32m----> 1\u001b[0m \u001b[43my\u001b[49m\u001b[38;5;241;43m.\u001b[39;49m\u001b[43mpop\u001b[49m\u001b[43m(\u001b[49m\u001b[38;5;124;43m'\u001b[39;49m\u001b[38;5;124;43ma\u001b[39;49m\u001b[38;5;124;43m'\u001b[39;49m\u001b[43m)\u001b[49m\n\u001b[0;32m      2\u001b[0m y\n",
      "\u001b[1;31mTypeError\u001b[0m: 'str' object cannot be interpreted as an integer"
     ]
    }
   ],
   "source": [
    "y.pop('a')\n",
    "y"
   ]
  },
  {
   "cell_type": "code",
   "execution_count": null,
   "id": "53e0d7bd",
   "metadata": {},
   "outputs": [],
   "source": [
    "\"\"\"\n",
    "from concurrent.futures import ThreadPoolExecutor\n",
    "\n",
    "extracted = []\n",
    "# Run the model to extract the entities\n",
    "with ThreadPoolExecutor(max_workers=8) as executor:\n",
    "    for i in executor.map(cohereMovieExtractor.extract, test_df['text']):\n",
    "        extracted.append(str(i).strip())\n",
    "# Save results\n",
    "test_df['extracted_text'] = extracted\n",
    "\n",
    "\"\"\""
   ]
  },
  {
   "cell_type": "markdown",
   "id": "cc1095da",
   "metadata": {},
   "source": [
    "_________________________________________________________________________________________________________________________"
   ]
  },
  {
   "cell_type": "code",
   "execution_count": 81,
   "id": "d3ec3927",
   "metadata": {
    "scrolled": true
   },
   "outputs": [],
   "source": [
    "\"\"\"\n",
    "def extract(self, example):\n",
    "    extraction = co.generate(model='large', prompt=self.make_prompt(example), max_tokens=10, \n",
    "                             temperature=0.1, stop_sequences=[\"\\n\"])\n",
    "    return(extraction.generations[0].text[:-1])\n",
    "\"\"\"\n",
    "    \n",
    "extraction = co.generate( model = 'large', prompt = prompt, max_tokens = 100, temperature = 0.1,\n",
    "                        stop_sequences = [\"--\"])"
   ]
  },
  {
   "cell_type": "code",
   "execution_count": 83,
   "id": "6990638a",
   "metadata": {},
   "outputs": [
    {
     "data": {
      "text/plain": [
       "cohere.Generation {\n",
       "\ttext: \n",
       "EXPERIENCE: 5+ years\n",
       "SKILLS: backend services\n",
       "EXPERIENCE: 4+ years\n",
       "SKILLS: systems\n",
       "SKILLS: data infrastructure\n",
       "--\n",
       "\tlikelihood: None\n",
       "\ttoken_likelihoods: None\n",
       "}"
      ]
     },
     "execution_count": 83,
     "metadata": {},
     "output_type": "execute_result"
    }
   ],
   "source": [
    "extraction.generations[0]"
   ]
  }
 ],
 "metadata": {
  "kernelspec": {
   "display_name": "Python 3 (ipykernel)",
   "language": "python",
   "name": "python3"
  },
  "language_info": {
   "codemirror_mode": {
    "name": "ipython",
    "version": 3
   },
   "file_extension": ".py",
   "mimetype": "text/x-python",
   "name": "python",
   "nbconvert_exporter": "python",
   "pygments_lexer": "ipython3",
   "version": "3.10.4"
  }
 },
 "nbformat": 4,
 "nbformat_minor": 5
}
