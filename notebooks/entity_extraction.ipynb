{
 "cells": [
  {
   "cell_type": "code",
   "execution_count": 1,
   "id": "ed2a9198",
   "metadata": {},
   "outputs": [],
   "source": [
    "import pandas as pd\n",
    "import dvc.api as DvcApi\n",
    "import cohere"
   ]
  },
  {
   "cell_type": "code",
   "execution_count": 2,
   "id": "d87075f8",
   "metadata": {},
   "outputs": [],
   "source": [
    "import sys, os\n",
    "\n",
    "sys.path.append(os.path.abspath(os.path.join(\"../..\")))\n",
    "sys.path.append(os.path.abspath(os.path.join(\"../scripts\")))"
   ]
  },
  {
   "cell_type": "code",
   "execution_count": 3,
   "id": "5f6f51d4",
   "metadata": {},
   "outputs": [],
   "source": [
    "import os\n",
    "from dotenv import load_dotenv #, find_dotenv"
   ]
  },
  {
   "cell_type": "code",
   "execution_count": 4,
   "id": "f8432c26",
   "metadata": {
    "scrolled": false
   },
   "outputs": [],
   "source": [
    "# dotenv_path = find_dotenv(usecwd=True)\n",
    "# load_dotenv(dotenv_path ,encoding='utf-16')\n",
    "load_dotenv(encoding='utf-16')\n",
    "\n",
    "api_key = os.getenv('apikey')"
   ]
  },
  {
   "cell_type": "code",
   "execution_count": 6,
   "id": "9ab05fb8",
   "metadata": {},
   "outputs": [],
   "source": [
    "# Paste your API key here. Remember to not share publicly\n",
    "\n",
    "# Create and retrieve a Cohere API key from os.cohere.ai\n",
    "co = cohere.Client(api_key)"
   ]
  },
  {
   "cell_type": "markdown",
   "id": "d2edcf1b",
   "metadata": {},
   "source": [
    "# Named Entity Recognition (NER)  with Generative Model of Cohere\n",
    "\n",
    "In this notebook we use Cohere's generative models to extract entities from a job description. We make use of sturctured generation based on providing multiple examples in the prompt.\n",
    "\n",
    "The data are job descriptions (together named entities) and relationships between entities in json format. In this preliminary work we will not consider the relationships as NER alone is not enough to achieve this.\n",
    "\n",
    "- Dataset 1: For development and training\n",
    "- Dataset 2: For testing and final reporting\n"
   ]
  },
  {
   "cell_type": "code",
   "execution_count": null,
   "id": "b4dbb5c6",
   "metadata": {},
   "outputs": [],
   "source": [
    "# Paste your API key here. Remember to not share publicly\n",
    "api_key = 'qPKnuy0sl0o4eg2bQ9nOe6qVmzTZoYcZT28DXvoN'\n",
    "\n",
    "# Create and retrieve a Cohere API key from os.cohere.ai\n",
    "co = cohere.Client(api_key)"
   ]
  },
  {
   "cell_type": "markdown",
   "id": "10e236ef",
   "metadata": {},
   "source": [
    "## Preparing examples for the prompt\n",
    "\n",
    "In our prompt, we'll present the model with examples of job descriptions and the type of output we're after."
   ]
  },
  {
   "cell_type": "code",
   "execution_count": 7,
   "id": "4b586335",
   "metadata": {},
   "outputs": [],
   "source": [
    "path = \"data/relations_dev.json\"\n",
    "repo = \"../\"\n",
    "version = \"v2\"\n",
    "\n",
    "data_url = DvcApi.get_url(path = path, repo = repo, rev = version) #could be tag or git commit\n",
    "data_dev = pd.read_json(data_url)"
   ]
  },
  {
   "cell_type": "code",
   "execution_count": 8,
   "id": "7bcf0f0d",
   "metadata": {},
   "outputs": [
    {
     "data": {
      "text/html": [
       "<div>\n",
       "<style scoped>\n",
       "    .dataframe tbody tr th:only-of-type {\n",
       "        vertical-align: middle;\n",
       "    }\n",
       "\n",
       "    .dataframe tbody tr th {\n",
       "        vertical-align: top;\n",
       "    }\n",
       "\n",
       "    .dataframe thead th {\n",
       "        text-align: right;\n",
       "    }\n",
       "</style>\n",
       "<table border=\"1\" class=\"dataframe\">\n",
       "  <thead>\n",
       "    <tr style=\"text-align: right;\">\n",
       "      <th></th>\n",
       "      <th>document</th>\n",
       "      <th>tokens</th>\n",
       "      <th>relations</th>\n",
       "    </tr>\n",
       "  </thead>\n",
       "  <tbody>\n",
       "    <tr>\n",
       "      <th>0</th>\n",
       "      <td>Bachelor's degree in Mechanical Engineering or...</td>\n",
       "      <td>[{'text': 'Bachelor', 'start': 0, 'end': 8, 't...</td>\n",
       "      <td>[{'child': 4, 'head': 0, 'relationLabel': 'DEG...</td>\n",
       "    </tr>\n",
       "    <tr>\n",
       "      <th>1</th>\n",
       "      <td>10+ years of software engineering work experie...</td>\n",
       "      <td>[{'text': '10+ years', 'start': 0, 'end': 9, '...</td>\n",
       "      <td>[{'child': 4, 'head': 0, 'relationLabel': 'EXP...</td>\n",
       "    </tr>\n",
       "  </tbody>\n",
       "</table>\n",
       "</div>"
      ],
      "text/plain": [
       "                                            document  \\\n",
       "0  Bachelor's degree in Mechanical Engineering or...   \n",
       "1  10+ years of software engineering work experie...   \n",
       "\n",
       "                                              tokens  \\\n",
       "0  [{'text': 'Bachelor', 'start': 0, 'end': 8, 't...   \n",
       "1  [{'text': '10+ years', 'start': 0, 'end': 9, '...   \n",
       "\n",
       "                                           relations  \n",
       "0  [{'child': 4, 'head': 0, 'relationLabel': 'DEG...  \n",
       "1  [{'child': 4, 'head': 0, 'relationLabel': 'EXP...  "
      ]
     },
     "execution_count": 8,
     "metadata": {},
     "output_type": "execute_result"
    }
   ],
   "source": [
    "data_dev.head(2)"
   ]
  },
  {
   "cell_type": "code",
   "execution_count": 11,
   "id": "457d211a",
   "metadata": {},
   "outputs": [
    {
     "data": {
      "text/plain": [
       "0     [{'text': 'Bachelor', 'start': 0, 'end': 8, 't...\n",
       "1     [{'text': '10+ years', 'start': 0, 'end': 9, '...\n",
       "2     [{'text': '3+ years', 'start': 0, 'end': 8, 't...\n",
       "3     [{'text': '8+ years', 'start': 0, 'end': 8, 't...\n",
       "4     [{'text': 'BS', 'start': 0, 'end': 2, 'token_s...\n",
       "5     [{'text': '8+ years', 'start': 0, 'end': 8, 't...\n",
       "6     [{'text': '2+ years', 'start': 773, 'end': 781...\n",
       "7     [{'text': 'BS/MS', 'start': 66, 'end': 71, 'to...\n",
       "8     [{'text': '5 + years', 'start': 12, 'end': 21,...\n",
       "9     [{'text': 'BS', 'start': 0, 'end': 2, 'token_s...\n",
       "10    [{'text': 'BS', 'start': 51, 'end': 53, 'token...\n",
       "11    [{'text': 'Bachelor', 'start': 0, 'end': 8, 't...\n",
       "12    [{'text': '1+ years', 'start': 0, 'end': 8, 't...\n",
       "13    [{'text': '5+ years', 'start': 1, 'end': 9, 't...\n",
       "14    [{'text': '8+ years', 'start': 425, 'end': 433...\n",
       "17    [{'text': 'BS/MS', 'start': 10, 'end': 15, 'to...\n",
       "18    [{'text': 'BA/BS degree', 'start': 447, 'end':...\n",
       "19    [{'text': 'Bachelor', 'start': 9, 'end': 17, '...\n",
       "20    [{'text': '5 + years', 'start': 43, 'end': 52,...\n",
       "21    [{'text': '7+ years', 'start': 13, 'end': 21, ...\n",
       "Name: tokens, dtype: object"
      ]
     },
     "execution_count": 11,
     "metadata": {},
     "output_type": "execute_result"
    }
   ],
   "source": [
    "data_dev.tokens"
   ]
  },
  {
   "cell_type": "code",
   "execution_count": null,
   "id": "bde087b3",
   "metadata": {},
   "outputs": [],
   "source": []
  }
 ],
 "metadata": {
  "kernelspec": {
   "display_name": "Python 3 (ipykernel)",
   "language": "python",
   "name": "python3"
  },
  "language_info": {
   "codemirror_mode": {
    "name": "ipython",
    "version": 3
   },
   "file_extension": ".py",
   "mimetype": "text/x-python",
   "name": "python",
   "nbconvert_exporter": "python",
   "pygments_lexer": "ipython3",
   "version": "3.10.4"
  }
 },
 "nbformat": 4,
 "nbformat_minor": 5
}
